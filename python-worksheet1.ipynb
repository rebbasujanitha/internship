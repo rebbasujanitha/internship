{
 "cells": [
  {
   "cell_type": "code",
   "execution_count": 1,
   "id": "381f158c",
   "metadata": {},
   "outputs": [],
   "source": [
    "#11. write a python program to find the factorial of a number."
   ]
  },
  {
   "cell_type": "code",
   "execution_count": 2,
   "id": "3066d60c",
   "metadata": {},
   "outputs": [],
   "source": [
    "def fact(n):\n",
    "    if n==1:\n",
    "        return 1\n",
    "    else:\n",
    "        return (n*fact(n-1))\n"
   ]
  },
  {
   "cell_type": "code",
   "execution_count": 3,
   "id": "604564af",
   "metadata": {},
   "outputs": [
    {
     "name": "stdout",
     "output_type": "stream",
     "text": [
      "enter any number6\n"
     ]
    },
    {
     "data": {
      "text/plain": [
       "720"
      ]
     },
     "execution_count": 3,
     "metadata": {},
     "output_type": "execute_result"
    }
   ],
   "source": [
    "num=int(input(\"enter any number\"))\n",
    "fact(num)"
   ]
  },
  {
   "cell_type": "code",
   "execution_count": 4,
   "id": "d83427fa",
   "metadata": {},
   "outputs": [],
   "source": [
    "#12. Write a python program to find whether a number is prime or composite."
   ]
  },
  {
   "cell_type": "code",
   "execution_count": 34,
   "id": "8af15a32",
   "metadata": {},
   "outputs": [
    {
     "name": "stdout",
     "output_type": "stream",
     "text": [
      "enter any number9\n",
      "the given number is a composite number\n"
     ]
    }
   ],
   "source": [
    "i=int(input(\"enter any number\"))\n",
    "count=0\n",
    "for n in range(1,i+1):\n",
    "    if(i%n)==0:\n",
    "        count+=1\n",
    "if(count==1):\n",
    "    print(\"The given number is not a prime number not a composite number\")\n",
    "if(count==2):\n",
    "    print(\"the given number is a prime number\")\n",
    "elif(count>=3):\n",
    "    print(\"the given number is a composite number\")\n",
    "    "
   ]
  },
  {
   "cell_type": "code",
   "execution_count": 35,
   "id": "46bd6ba4",
   "metadata": {},
   "outputs": [],
   "source": [
    "#13.Write a python program to check whether a given string is palindrome or not."
   ]
  },
  {
   "cell_type": "code",
   "execution_count": 9,
   "id": "31b27679",
   "metadata": {},
   "outputs": [
    {
     "name": "stdout",
     "output_type": "stream",
     "text": [
      "enter any stringlevel\n",
      "Given string is a palindrome\n"
     ]
    }
   ],
   "source": [
    "s=input(\"enter any string\")\n",
    "\n",
    "f=0\n",
    "j=-1\n",
    "for i in s:\n",
    "    if(i!=s[j]):\n",
    "        f=1\n",
    "        break\n",
    "    j=j-1\n",
    "if(f==1):\n",
    "    print(\"Given string is not a palindrome\")\n",
    "else:\n",
    "    print(\"Given string is a palindrome\")"
   ]
  },
  {
   "cell_type": "code",
   "execution_count": 10,
   "id": "c928511c",
   "metadata": {},
   "outputs": [],
   "source": [
    "#14. Write a Python program to get the third side of right-angled triangle from two given sides"
   ]
  },
  {
   "cell_type": "code",
   "execution_count": 15,
   "id": "3cd84be7",
   "metadata": {},
   "outputs": [
    {
     "name": "stdout",
     "output_type": "stream",
     "text": [
      "enter one side of a triangle5\n",
      "enter second side of a triangle12\n",
      "The third side of the right angle triangle is: 13.0\n"
     ]
    }
   ],
   "source": [
    "import math \n",
    "AB=int(input(\"enter one side of a triangle\"))\n",
    "BC=int(input(\"enter second side of a triangle\"))\n",
    "AC=math.sqrt(pow(AB,2)+pow(BC,2))\n",
    "print(\"The third side of the right angle triangle is:\",AC)"
   ]
  },
  {
   "cell_type": "code",
   "execution_count": 16,
   "id": "8a4327c2",
   "metadata": {},
   "outputs": [],
   "source": [
    "#15. Write a python program to print the frequency of each of the characters present in a given string."
   ]
  },
  {
   "cell_type": "code",
   "execution_count": 17,
   "id": "cc4d3a59",
   "metadata": {},
   "outputs": [
    {
     "name": "stdout",
     "output_type": "stream",
     "text": [
      "enter any stringmy name is sujanitha\n",
      "all characters in a string={'m': 2, 'y': 1, ' ': 3, 'n': 2, 'a': 3, 'e': 1, 'i': 2, 's': 2, 'u': 1, 'j': 1, 't': 1, 'h': 1}\n"
     ]
    }
   ],
   "source": [
    "s=input(\"enter any string\")\n",
    "str1={}\n",
    "for i in s:\n",
    "    if i in str1:\n",
    "        str1[i]+=1\n",
    "        \n",
    "        \n",
    "    else:\n",
    "        str1[i]=1\n",
    "print(\"all characters in a string=\"+ str(str1))"
   ]
  },
  {
   "cell_type": "code",
   "execution_count": null,
   "id": "7fcac32f",
   "metadata": {},
   "outputs": [],
   "source": []
  }
 ],
 "metadata": {
  "kernelspec": {
   "display_name": "Python 3",
   "language": "python",
   "name": "python3"
  },
  "language_info": {
   "codemirror_mode": {
    "name": "ipython",
    "version": 3
   },
   "file_extension": ".py",
   "mimetype": "text/x-python",
   "name": "python",
   "nbconvert_exporter": "python",
   "pygments_lexer": "ipython3",
   "version": "3.8.8"
  }
 },
 "nbformat": 4,
 "nbformat_minor": 5
}
