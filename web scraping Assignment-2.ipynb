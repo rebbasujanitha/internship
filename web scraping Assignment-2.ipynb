{
 "cells": [
  {
   "cell_type": "code",
   "execution_count": 1,
   "id": "67eafdba",
   "metadata": {},
   "outputs": [],
   "source": [
    "#Q1: Write a python program to scrape data for “Data Analyst” Job position in “Bangalore” location. You\n",
    "#have to scrape the job-title, job-location, company_name, experience_required. You have to scrape first 10 jobs data"
   ]
  },
  {
   "cell_type": "code",
   "execution_count": 4,
   "id": "0052221b",
   "metadata": {},
   "outputs": [],
   "source": [
    "import pandas as pd\n",
    "from selenium import webdriver\n",
    "import warnings\n",
    "warnings.filterwarnings('ignore')\n",
    "import time"
   ]
  },
  {
   "cell_type": "code",
   "execution_count": 2,
   "id": "db414b76",
   "metadata": {},
   "outputs": [],
   "source": [
    "driver=webdriver.Chrome(r'C:\\Users\\polasasuresh\\Downloads\\chromedriver_win32\\chromedriver.exe')"
   ]
  },
  {
   "cell_type": "code",
   "execution_count": 3,
   "id": "790355ac",
   "metadata": {},
   "outputs": [],
   "source": [
    "driver.get(\"https://www.naukri.com/\")"
   ]
  },
  {
   "cell_type": "code",
   "execution_count": 4,
   "id": "6da511fe",
   "metadata": {},
   "outputs": [],
   "source": [
    "#Entering “Data Analyst” in “Skill, Designations, Companies” field \n",
    "desgn=driver.find_element_by_class_name(\"suggestor-input \")\n",
    "desgn.send_keys(\"Data Analyst\")"
   ]
  },
  {
   "cell_type": "code",
   "execution_count": 5,
   "id": "05f24ad7",
   "metadata": {},
   "outputs": [],
   "source": [
    "#Enter “Bangalore” in the location” field.\n",
    "loc_tag=driver.find_element_by_xpath(\"/html/body/div/div[2]/div[3]/div/div/div[3]/div/div/div/input\")\n",
    "loc_tag.send_keys(\"Bangalore\")"
   ]
  },
  {
   "cell_type": "code",
   "execution_count": 6,
   "id": "42a94a3f",
   "metadata": {},
   "outputs": [],
   "source": [
    "#click the search button\n",
    "search_button=driver.find_element_by_xpath('/html/body/div/div[2]/div[3]/div/div/div[6]')\n",
    "search_button.click()"
   ]
  },
  {
   "cell_type": "code",
   "execution_count": 36,
   "id": "ff7870d1",
   "metadata": {},
   "outputs": [],
   "source": [
    "#now extrac the job titles,company name,location-list,experiance\n",
    "job_title=[]\n",
    "company_name=[]\n",
    "location_lst=[]\n",
    "experiance_lst=[]"
   ]
  },
  {
   "cell_type": "code",
   "execution_count": 46,
   "id": "a58d21ea",
   "metadata": {},
   "outputs": [],
   "source": [
    "#extracting jobs_title\n",
    "title_tags=driver.find_elements_by_xpath(\"//a[@class='title fw500 ellipsis']\")\n",
    "for i in title_tags:\n",
    "    title=i.text\n",
    "    job_title.append(title)"
   ]
  },
  {
   "cell_type": "code",
   "execution_count": 45,
   "id": "a2e12dc4",
   "metadata": {},
   "outputs": [],
   "source": [
    "#extracting companies names\n",
    "companies_tag=driver.find_elements_by_xpath(\"//a[@class='subTitle ellipsis fleft']\")\n",
    "for i in companies_tag:\n",
    "    company=i.text\n",
    "    company_name.append(company)"
   ]
  },
  {
   "cell_type": "code",
   "execution_count": 44,
   "id": "0e730383",
   "metadata": {},
   "outputs": [],
   "source": [
    "#extracting job_laocation\n",
    "location_tag=driver.find_elements_by_xpath(\"//li[@class='fleft grey-text br2 placeHolderLi location']/span[1]\")\n",
    "for i in location_tag:\n",
    "    loc=i.text\n",
    "    location_lst.append(loc)"
   ]
  },
  {
   "cell_type": "code",
   "execution_count": 43,
   "id": "f8f8f31c",
   "metadata": {},
   "outputs": [],
   "source": [
    "#extracting experiance need for job \n",
    "experiance_tag=driver.find_elements_by_xpath(\"//li[@class='fleft grey-text br2 placeHolderLi experience']/span\")\n",
    "for i in experiance_tag:\n",
    "    exp=i.text\n",
    "    experiance_lst.append(exp)"
   ]
  },
  {
   "cell_type": "code",
   "execution_count": 41,
   "id": "6602bcb9",
   "metadata": {},
   "outputs": [
    {
     "data": {
      "text/plain": [
       "(20, 20, 20, 20)"
      ]
     },
     "execution_count": 41,
     "metadata": {},
     "output_type": "execute_result"
    }
   ],
   "source": [
    "len(job_title),len(location_lst),len(company_name),len(experiance_lst)"
   ]
  },
  {
   "cell_type": "code",
   "execution_count": 42,
   "id": "d1060dff",
   "metadata": {},
   "outputs": [
    {
     "data": {
      "text/html": [
       "<div>\n",
       "<style scoped>\n",
       "    .dataframe tbody tr th:only-of-type {\n",
       "        vertical-align: middle;\n",
       "    }\n",
       "\n",
       "    .dataframe tbody tr th {\n",
       "        vertical-align: top;\n",
       "    }\n",
       "\n",
       "    .dataframe thead th {\n",
       "        text-align: right;\n",
       "    }\n",
       "</style>\n",
       "<table border=\"1\" class=\"dataframe\">\n",
       "  <thead>\n",
       "    <tr style=\"text-align: right;\">\n",
       "      <th></th>\n",
       "      <th>Job_Title</th>\n",
       "      <th>Job_Location</th>\n",
       "      <th>Company_Name</th>\n",
       "      <th>Experience</th>\n",
       "    </tr>\n",
       "  </thead>\n",
       "  <tbody>\n",
       "    <tr>\n",
       "      <th>0</th>\n",
       "      <td>Senior Data Analyst</td>\n",
       "      <td>Bangalore/Bengaluru</td>\n",
       "      <td>Thomson Reuters</td>\n",
       "      <td>2-4 Yrs</td>\n",
       "    </tr>\n",
       "    <tr>\n",
       "      <th>1</th>\n",
       "      <td>Data Analyst- customer facing</td>\n",
       "      <td>Bangalore/Bengaluru</td>\n",
       "      <td>Synamedia</td>\n",
       "      <td>0-3 Yrs</td>\n",
       "    </tr>\n",
       "    <tr>\n",
       "      <th>2</th>\n",
       "      <td>Sr Data Analyst II</td>\n",
       "      <td>Gurgaon/Gurugram, Bangalore/Bengaluru</td>\n",
       "      <td>IHS Markit</td>\n",
       "      <td>3-6 Yrs</td>\n",
       "    </tr>\n",
       "    <tr>\n",
       "      <th>3</th>\n",
       "      <td>Data Analyst</td>\n",
       "      <td>Bangalore/Bengaluru</td>\n",
       "      <td>VOLVO ASSET FINANCE INDIA PRIVATE LIMITED</td>\n",
       "      <td>2-4 Yrs</td>\n",
       "    </tr>\n",
       "    <tr>\n",
       "      <th>4</th>\n",
       "      <td>Hiring For Data Analyst with SAP ABAP &amp; BW - C...</td>\n",
       "      <td>Bangalore/Bengaluru</td>\n",
       "      <td>MILLION MINDS INFOTECH PRIVATE LIMITED</td>\n",
       "      <td>7-10 Yrs</td>\n",
       "    </tr>\n",
       "    <tr>\n",
       "      <th>5</th>\n",
       "      <td>Senior Business Analyst - Data Sciences and Ad...</td>\n",
       "      <td>Bangalore/Bengaluru</td>\n",
       "      <td>Vmware</td>\n",
       "      <td>3-7 Yrs</td>\n",
       "    </tr>\n",
       "    <tr>\n",
       "      <th>6</th>\n",
       "      <td>Business and Data Analyst</td>\n",
       "      <td>Bangalore/Bengaluru</td>\n",
       "      <td>CAREERDOST ENTERPRISE</td>\n",
       "      <td>0-5 Yrs</td>\n",
       "    </tr>\n",
       "    <tr>\n",
       "      <th>7</th>\n",
       "      <td>Senior Data Analyst | Lululemon</td>\n",
       "      <td>Bangalore/Bengaluru</td>\n",
       "      <td>TALENT500 TECH (INDIA) PRIVATE LIMITED</td>\n",
       "      <td>5-8 Yrs</td>\n",
       "    </tr>\n",
       "    <tr>\n",
       "      <th>8</th>\n",
       "      <td>Urgent hiring For Senior Data Analyst</td>\n",
       "      <td>Bangalore/Bengaluru</td>\n",
       "      <td>upGrad</td>\n",
       "      <td>2-7 Yrs</td>\n",
       "    </tr>\n",
       "    <tr>\n",
       "      <th>9</th>\n",
       "      <td>Senior Data Analyst</td>\n",
       "      <td>Pune, Gurgaon/Gurugram, Chennai, Bangalore/Ben...</td>\n",
       "      <td>Capco</td>\n",
       "      <td>7-12 Yrs</td>\n",
       "    </tr>\n",
       "  </tbody>\n",
       "</table>\n",
       "</div>"
      ],
      "text/plain": [
       "                                           Job_Title  \\\n",
       "0                                Senior Data Analyst   \n",
       "1                      Data Analyst- customer facing   \n",
       "2                                 Sr Data Analyst II   \n",
       "3                                       Data Analyst   \n",
       "4  Hiring For Data Analyst with SAP ABAP & BW - C...   \n",
       "5  Senior Business Analyst - Data Sciences and Ad...   \n",
       "6                          Business and Data Analyst   \n",
       "7                    Senior Data Analyst | Lululemon   \n",
       "8              Urgent hiring For Senior Data Analyst   \n",
       "9                                Senior Data Analyst   \n",
       "\n",
       "                                        Job_Location  \\\n",
       "0                                Bangalore/Bengaluru   \n",
       "1                                Bangalore/Bengaluru   \n",
       "2              Gurgaon/Gurugram, Bangalore/Bengaluru   \n",
       "3                                Bangalore/Bengaluru   \n",
       "4                                Bangalore/Bengaluru   \n",
       "5                                Bangalore/Bengaluru   \n",
       "6                                Bangalore/Bengaluru   \n",
       "7                                Bangalore/Bengaluru   \n",
       "8                                Bangalore/Bengaluru   \n",
       "9  Pune, Gurgaon/Gurugram, Chennai, Bangalore/Ben...   \n",
       "\n",
       "                                Company_Name Experience  \n",
       "0                            Thomson Reuters    2-4 Yrs  \n",
       "1                                  Synamedia    0-3 Yrs  \n",
       "2                                 IHS Markit    3-6 Yrs  \n",
       "3  VOLVO ASSET FINANCE INDIA PRIVATE LIMITED    2-4 Yrs  \n",
       "4     MILLION MINDS INFOTECH PRIVATE LIMITED   7-10 Yrs  \n",
       "5                                     Vmware    3-7 Yrs  \n",
       "6                      CAREERDOST ENTERPRISE    0-5 Yrs  \n",
       "7     TALENT500 TECH (INDIA) PRIVATE LIMITED    5-8 Yrs  \n",
       "8                                     upGrad    2-7 Yrs  \n",
       "9                                      Capco   7-12 Yrs  "
      ]
     },
     "execution_count": 42,
     "metadata": {},
     "output_type": "execute_result"
    }
   ],
   "source": [
    "df=pd.DataFrame({'Job_Title':job_title,\"Job_Location\":location_lst,\"Company_Name\":company_name,\"Experience\":experiance_lst})\n",
    "df[0:10]"
   ]
  },
  {
   "cell_type": "code",
   "execution_count": null,
   "id": "c44d3da9",
   "metadata": {},
   "outputs": [],
   "source": [
    "#Q2: Write a python program to scrape data for “Data Scientist” Job position in “Bangalore” location. You have to scrape the job-title, job-location, company_name. You have to scrape first 10 jobs data."
   ]
  },
  {
   "cell_type": "code",
   "execution_count": 5,
   "id": "8bf2fef9",
   "metadata": {},
   "outputs": [],
   "source": [
    "driver=webdriver.Chrome(r'C:\\Users\\polasasuresh\\Downloads\\chromedriver_win32\\chromedriver.exe')"
   ]
  },
  {
   "cell_type": "code",
   "execution_count": 6,
   "id": "588d07dc",
   "metadata": {},
   "outputs": [],
   "source": [
    "driver.get('https://www.naukri.com/')"
   ]
  },
  {
   "cell_type": "code",
   "execution_count": 7,
   "id": "fed21dee",
   "metadata": {},
   "outputs": [],
   "source": [
    "#Enter “Data Scientist” in “Skill, Designations, Companies” field\n",
    "search_field_designation=driver.find_element_by_class_name(\"suggestor-input \")\n",
    "search_field_designation.send_keys(\"Data Scientist\")"
   ]
  },
  {
   "cell_type": "code",
   "execution_count": 8,
   "id": "b58eb7f3",
   "metadata": {},
   "outputs": [],
   "source": [
    "#Enter location as \"Bangalore\"\n",
    "search_field_loc=driver.find_element_by_xpath(\"/html/body/div/div[2]/div[3]/div/div/div[3]/div/div/div/input\")\n",
    "search_field_loc.send_keys(\"Bangalore\")"
   ]
  },
  {
   "cell_type": "code",
   "execution_count": 9,
   "id": "f2e3483e",
   "metadata": {},
   "outputs": [],
   "source": [
    "#clicking on search button\n",
    "search_button=driver.find_element_by_xpath('/html/body/div/div[2]/div[3]/div/div/div[6]')\n",
    "search_button.click()"
   ]
  },
  {
   "cell_type": "code",
   "execution_count": 10,
   "id": "85b55ecd",
   "metadata": {},
   "outputs": [],
   "source": [
    "#now extrac the job titles,company name,location-list,experiance\n",
    "job_titles=[]\n",
    "company_names=[]\n",
    "location_list=[]\n",
    "experiance_list=[]"
   ]
  },
  {
   "cell_type": "code",
   "execution_count": 11,
   "id": "22bfb0af",
   "metadata": {},
   "outputs": [],
   "source": [
    "title_tags=driver.find_elements_by_xpath(\"//a[@class='title fw500 ellipsis']\")\n",
    "for i in title_tags:\n",
    "    title=i.text\n",
    "    job_titles.append(title)"
   ]
  },
  {
   "cell_type": "code",
   "execution_count": 12,
   "id": "9313b482",
   "metadata": {},
   "outputs": [],
   "source": [
    "companies_tag=driver.find_elements_by_xpath(\"//a[@class='subTitle ellipsis fleft']\")\n",
    "for i in companies_tag:\n",
    "    company=i.text\n",
    "    company_names.append(company)"
   ]
  },
  {
   "cell_type": "code",
   "execution_count": 13,
   "id": "1553a9d6",
   "metadata": {},
   "outputs": [],
   "source": [
    "experiance_tags=driver.find_elements_by_xpath(\"//li[@class='fleft grey-text br2 placeHolderLi experience']/span\")\n",
    "for i in experiance_tags:\n",
    "    exp=i.text\n",
    "    experiance_list.append(exp)"
   ]
  },
  {
   "cell_type": "code",
   "execution_count": 14,
   "id": "fd9fab81",
   "metadata": {},
   "outputs": [],
   "source": [
    "location_tags=driver.find_elements_by_xpath(\"//li[@class='fleft grey-text br2 placeHolderLi location']/span[1]\")\n",
    "for i in location_tags:\n",
    "    loc=i.text\n",
    "    location_list.append(loc)"
   ]
  },
  {
   "cell_type": "code",
   "execution_count": 15,
   "id": "9258eb97",
   "metadata": {},
   "outputs": [
    {
     "data": {
      "text/html": [
       "<div>\n",
       "<style scoped>\n",
       "    .dataframe tbody tr th:only-of-type {\n",
       "        vertical-align: middle;\n",
       "    }\n",
       "\n",
       "    .dataframe tbody tr th {\n",
       "        vertical-align: top;\n",
       "    }\n",
       "\n",
       "    .dataframe thead th {\n",
       "        text-align: right;\n",
       "    }\n",
       "</style>\n",
       "<table border=\"1\" class=\"dataframe\">\n",
       "  <thead>\n",
       "    <tr style=\"text-align: right;\">\n",
       "      <th></th>\n",
       "      <th>Title</th>\n",
       "      <th>company</th>\n",
       "      <th>Experiance Required</th>\n",
       "      <th>location</th>\n",
       "    </tr>\n",
       "  </thead>\n",
       "  <tbody>\n",
       "    <tr>\n",
       "      <th>0</th>\n",
       "      <td>Senior Data Scientist Grade12</td>\n",
       "      <td>Flipkart</td>\n",
       "      <td>5-10 Yrs</td>\n",
       "      <td>Bangalore/Bengaluru</td>\n",
       "    </tr>\n",
       "    <tr>\n",
       "      <th>1</th>\n",
       "      <td>Senior Data Scientist Grade12</td>\n",
       "      <td>Flipkart</td>\n",
       "      <td>5-7 Yrs</td>\n",
       "      <td>Bangalore/Bengaluru</td>\n",
       "    </tr>\n",
       "    <tr>\n",
       "      <th>2</th>\n",
       "      <td>Senior Data Scientist</td>\n",
       "      <td>Fractal Analytics</td>\n",
       "      <td>5-10 Yrs</td>\n",
       "      <td>Bangalore/Bengaluru</td>\n",
       "    </tr>\n",
       "    <tr>\n",
       "      <th>3</th>\n",
       "      <td>Data Scientist</td>\n",
       "      <td>Genpact</td>\n",
       "      <td>5-8 Yrs</td>\n",
       "      <td>Hyderabad/Secunderabad, Bangalore/Bengaluru, D...</td>\n",
       "    </tr>\n",
       "    <tr>\n",
       "      <th>4</th>\n",
       "      <td>Data Scientist</td>\n",
       "      <td>VISA</td>\n",
       "      <td>3-7 Yrs</td>\n",
       "      <td>Bangalore/Bengaluru</td>\n",
       "    </tr>\n",
       "    <tr>\n",
       "      <th>5</th>\n",
       "      <td>Data Scientist, Machine Learning (AIML)</td>\n",
       "      <td>Fractal Analytics</td>\n",
       "      <td>3-7 Yrs</td>\n",
       "      <td>Bangalore/Bengaluru</td>\n",
       "    </tr>\n",
       "    <tr>\n",
       "      <th>6</th>\n",
       "      <td>Cognitive/AI Senior Data Scientist</td>\n",
       "      <td>IBM</td>\n",
       "      <td>4-8 Yrs</td>\n",
       "      <td>Bangalore/Bengaluru</td>\n",
       "    </tr>\n",
       "    <tr>\n",
       "      <th>7</th>\n",
       "      <td>Lead - Data Scientist</td>\n",
       "      <td>Applied Materials</td>\n",
       "      <td>10-15 Yrs</td>\n",
       "      <td>Bangalore/Bengaluru</td>\n",
       "    </tr>\n",
       "    <tr>\n",
       "      <th>8</th>\n",
       "      <td>DATA SCIENTIST</td>\n",
       "      <td>Kyndryl</td>\n",
       "      <td>8-10 Yrs</td>\n",
       "      <td>Bangalore/Bengaluru</td>\n",
       "    </tr>\n",
       "    <tr>\n",
       "      <th>9</th>\n",
       "      <td>Data Scientist</td>\n",
       "      <td>Aidetic Software Pvt Ltd</td>\n",
       "      <td>1-5 Yrs</td>\n",
       "      <td>Bangalore/Bengaluru</td>\n",
       "    </tr>\n",
       "  </tbody>\n",
       "</table>\n",
       "</div>"
      ],
      "text/plain": [
       "                                     Title                   company  \\\n",
       "0            Senior Data Scientist Grade12                  Flipkart   \n",
       "1            Senior Data Scientist Grade12                  Flipkart   \n",
       "2                    Senior Data Scientist         Fractal Analytics   \n",
       "3                           Data Scientist                   Genpact   \n",
       "4                           Data Scientist                      VISA   \n",
       "5  Data Scientist, Machine Learning (AIML)         Fractal Analytics   \n",
       "6       Cognitive/AI Senior Data Scientist                       IBM   \n",
       "7                    Lead - Data Scientist         Applied Materials   \n",
       "8                           DATA SCIENTIST                   Kyndryl   \n",
       "9                           Data Scientist  Aidetic Software Pvt Ltd   \n",
       "\n",
       "  Experiance Required                                           location  \n",
       "0            5-10 Yrs                                Bangalore/Bengaluru  \n",
       "1             5-7 Yrs                                Bangalore/Bengaluru  \n",
       "2            5-10 Yrs                                Bangalore/Bengaluru  \n",
       "3             5-8 Yrs  Hyderabad/Secunderabad, Bangalore/Bengaluru, D...  \n",
       "4             3-7 Yrs                                Bangalore/Bengaluru  \n",
       "5             3-7 Yrs                                Bangalore/Bengaluru  \n",
       "6             4-8 Yrs                                Bangalore/Bengaluru  \n",
       "7           10-15 Yrs                                Bangalore/Bengaluru  \n",
       "8            8-10 Yrs                                Bangalore/Bengaluru  \n",
       "9             1-5 Yrs                                Bangalore/Bengaluru  "
      ]
     },
     "execution_count": 15,
     "metadata": {},
     "output_type": "execute_result"
    }
   ],
   "source": [
    "import pandas as pd\n",
    "jobs=pd.DataFrame({})\n",
    "jobs['Title']=job_titles\n",
    "jobs['company']=company_names\n",
    "jobs['Experiance Required']=experiance_list\n",
    "jobs['location']=location_list\n",
    "jobs[0:10]"
   ]
  },
  {
   "cell_type": "code",
   "execution_count": 87,
   "id": "08980890",
   "metadata": {},
   "outputs": [],
   "source": [
    "#Q3: In this question you have to scrape data using the filters available on the webpage as shown below:\n",
    "#You have to use the location and salary filter.\n",
    "#You have to scrape data for “Data Scientist” designation for first 10 job results.\n",
    "#You have to scrape the job-title, job-location, company name, experience required.\n",
    "#The location filter to be used is “Delhi/NCR”. The salary filter to be used is “3-6” lakhs\n"
   ]
  },
  {
   "cell_type": "code",
   "execution_count": 162,
   "id": "6ae30948",
   "metadata": {},
   "outputs": [],
   "source": [
    "driver=webdriver.Chrome(r'C:\\Users\\polasasuresh\\Downloads\\chromedriver_win32\\chromedriver.exe')"
   ]
  },
  {
   "cell_type": "code",
   "execution_count": 163,
   "id": "08eba65b",
   "metadata": {},
   "outputs": [],
   "source": [
    "driver.get('https://www.naukri.com/')"
   ]
  },
  {
   "cell_type": "code",
   "execution_count": 164,
   "id": "234e0ad4",
   "metadata": {},
   "outputs": [],
   "source": [
    "#Enter “Data Scientist” in “Skill, Designations, and Companies” field.\n",
    "input_tag=driver.find_element_by_xpath(\"/html/body/div/div[2]/div[3]/div/div/div[1]/div/div/div/input\")\n",
    "input_tag.send_keys(\"Data Scientist\")"
   ]
  },
  {
   "cell_type": "code",
   "execution_count": 165,
   "id": "c9f6856f",
   "metadata": {},
   "outputs": [],
   "source": [
    "# Then click the search button.\n",
    "src_button=driver.find_element_by_xpath(\"/html/body/div/div[2]/div[3]/div/div/div[6]\")\n",
    "src_button.click()"
   ]
  },
  {
   "cell_type": "code",
   "execution_count": 166,
   "id": "95fce1a3",
   "metadata": {},
   "outputs": [],
   "source": [
    "#Apply the location filter to “Delhi/NCR”\n",
    "driver.find_element_by_xpath(\"/html/body/div/div[3]/div[2]/section[1]/div[2]/div[4]/div[2]/div[3]/label/p\").click()"
   ]
  },
  {
   "cell_type": "code",
   "execution_count": 168,
   "id": "1e238ea9",
   "metadata": {},
   "outputs": [],
   "source": [
    "#Apply salary filter to \"3-6\" lakhs\n",
    "driver.find_element_by_xpath(\"/html/body/div[1]/div[3]/div[2]/section[1]/div[2]/div[5]/div[2]/div[2]/label/p/span[1]\").click()"
   ]
  },
  {
   "cell_type": "code",
   "execution_count": 169,
   "id": "5a206382",
   "metadata": {},
   "outputs": [],
   "source": [
    "tit=[]\n",
    "cmp=[]\n",
    "lok=[]\n",
    "exp=[]"
   ]
  },
  {
   "cell_type": "code",
   "execution_count": 170,
   "id": "5c1ba2b9",
   "metadata": {},
   "outputs": [],
   "source": [
    "#extracting job titles\n",
    "titl=driver.find_elements_by_xpath(\"//a[@class='title fw500 ellipsis']\")\n",
    "for i in titl:\n",
    "    tit.append(i.text)"
   ]
  },
  {
   "cell_type": "code",
   "execution_count": 171,
   "id": "ddd1a302",
   "metadata": {},
   "outputs": [],
   "source": [
    "#extracting company names\n",
    "cp=driver.find_elements_by_xpath(\"//a[@class='subTitle ellipsis fleft']\")\n",
    "for j in cp:\n",
    "    c=j.text\n",
    "    cmp.append(c)"
   ]
  },
  {
   "cell_type": "code",
   "execution_count": 172,
   "id": "2ffef9f7",
   "metadata": {},
   "outputs": [],
   "source": [
    "#Extracting experiance\n",
    "ex=driver.find_elements_by_xpath(\"//li[@class='fleft grey-text br2 placeHolderLi experience']\")\n",
    "for k in ex:\n",
    "    lo=k.text\n",
    "    exp.append(lo)"
   ]
  },
  {
   "cell_type": "code",
   "execution_count": 173,
   "id": "41f42799",
   "metadata": {},
   "outputs": [],
   "source": [
    "#extracting Location\n",
    "l=driver.find_elements_by_xpath(\"//li[@class='fleft grey-text br2 placeHolderLi location']/span[1]\")\n",
    "for h in l:\n",
    "    k=h.text\n",
    "    lok.append(k)"
   ]
  },
  {
   "cell_type": "code",
   "execution_count": 174,
   "id": "623a635f",
   "metadata": {},
   "outputs": [
    {
     "data": {
      "text/html": [
       "<div>\n",
       "<style scoped>\n",
       "    .dataframe tbody tr th:only-of-type {\n",
       "        vertical-align: middle;\n",
       "    }\n",
       "\n",
       "    .dataframe tbody tr th {\n",
       "        vertical-align: top;\n",
       "    }\n",
       "\n",
       "    .dataframe thead th {\n",
       "        text-align: right;\n",
       "    }\n",
       "</style>\n",
       "<table border=\"1\" class=\"dataframe\">\n",
       "  <thead>\n",
       "    <tr style=\"text-align: right;\">\n",
       "      <th></th>\n",
       "      <th>Job Title</th>\n",
       "      <th>Company Name</th>\n",
       "      <th>Location</th>\n",
       "      <th>Experiance</th>\n",
       "    </tr>\n",
       "  </thead>\n",
       "  <tbody>\n",
       "    <tr>\n",
       "      <th>0</th>\n",
       "      <td>Data Scientist</td>\n",
       "      <td>Ashkom Media India Private Limited</td>\n",
       "      <td>Noida, Bangalore/Bengaluru</td>\n",
       "      <td>3-6 Yrs</td>\n",
       "    </tr>\n",
       "    <tr>\n",
       "      <th>1</th>\n",
       "      <td>Junior Data Scientist</td>\n",
       "      <td>EASY DATA ANALYTICS TECHNOLOGY PRIVATE LIMITED</td>\n",
       "      <td>Noida</td>\n",
       "      <td>1-2 Yrs</td>\n",
       "    </tr>\n",
       "    <tr>\n",
       "      <th>2</th>\n",
       "      <td>Associate Data Scientist</td>\n",
       "      <td>Optum</td>\n",
       "      <td>Gurgaon/Gurugram</td>\n",
       "      <td>1-5 Yrs</td>\n",
       "    </tr>\n",
       "    <tr>\n",
       "      <th>3</th>\n",
       "      <td>Associate Scientist - Data Engineering</td>\n",
       "      <td>AXA Technology Services India Pvt. Ltd</td>\n",
       "      <td>Gurgaon/Gurugram</td>\n",
       "      <td>2-5 Yrs</td>\n",
       "    </tr>\n",
       "    <tr>\n",
       "      <th>4</th>\n",
       "      <td>Data Scientist || Software Company || Immediat...</td>\n",
       "      <td>Skyleaf Consultants</td>\n",
       "      <td>Gurgaon/Gurugram, Bangalore/Bengaluru</td>\n",
       "      <td>3-8 Yrs</td>\n",
       "    </tr>\n",
       "    <tr>\n",
       "      <th>5</th>\n",
       "      <td>Data Scientist/ Machine Learning, 2022 Passout...</td>\n",
       "      <td>Creative Hands HR Consultancy</td>\n",
       "      <td>Hyderabad/Secunderabad, Pune, Chennai, Delhi /...</td>\n",
       "      <td>0-4 Yrs</td>\n",
       "    </tr>\n",
       "    <tr>\n",
       "      <th>6</th>\n",
       "      <td>Hiring For Data Analyst and Data Scientist For...</td>\n",
       "      <td>Shadow Placements</td>\n",
       "      <td>Noida, Gurgaon/Gurugram, Delhi / NCR</td>\n",
       "      <td>3-7 Yrs</td>\n",
       "    </tr>\n",
       "    <tr>\n",
       "      <th>7</th>\n",
       "      <td>Data Scientist (freelance)</td>\n",
       "      <td>2Coms</td>\n",
       "      <td>New Delhi, Delhi</td>\n",
       "      <td>2-7 Yrs</td>\n",
       "    </tr>\n",
       "    <tr>\n",
       "      <th>8</th>\n",
       "      <td>Data Scientists</td>\n",
       "      <td>Nibha Infotech Private Limited</td>\n",
       "      <td>Gurgaon/Gurugram</td>\n",
       "      <td>5-8 Yrs</td>\n",
       "    </tr>\n",
       "    <tr>\n",
       "      <th>9</th>\n",
       "      <td>Data Scientist</td>\n",
       "      <td>BlackBuck</td>\n",
       "      <td>Gurgaon, Bengaluru</td>\n",
       "      <td>3-7 Yrs</td>\n",
       "    </tr>\n",
       "  </tbody>\n",
       "</table>\n",
       "</div>"
      ],
      "text/plain": [
       "                                           Job Title  \\\n",
       "0                                     Data Scientist   \n",
       "1                              Junior Data Scientist   \n",
       "2                           Associate Data Scientist   \n",
       "3             Associate Scientist - Data Engineering   \n",
       "4  Data Scientist || Software Company || Immediat...   \n",
       "5  Data Scientist/ Machine Learning, 2022 Passout...   \n",
       "6  Hiring For Data Analyst and Data Scientist For...   \n",
       "7                         Data Scientist (freelance)   \n",
       "8                                    Data Scientists   \n",
       "9                                     Data Scientist   \n",
       "\n",
       "                                     Company Name  \\\n",
       "0              Ashkom Media India Private Limited   \n",
       "1  EASY DATA ANALYTICS TECHNOLOGY PRIVATE LIMITED   \n",
       "2                                           Optum   \n",
       "3          AXA Technology Services India Pvt. Ltd   \n",
       "4                             Skyleaf Consultants   \n",
       "5                   Creative Hands HR Consultancy   \n",
       "6                               Shadow Placements   \n",
       "7                                           2Coms   \n",
       "8                  Nibha Infotech Private Limited   \n",
       "9                                       BlackBuck   \n",
       "\n",
       "                                            Location Experiance  \n",
       "0                         Noida, Bangalore/Bengaluru    3-6 Yrs  \n",
       "1                                              Noida    1-2 Yrs  \n",
       "2                                   Gurgaon/Gurugram    1-5 Yrs  \n",
       "3                                   Gurgaon/Gurugram    2-5 Yrs  \n",
       "4              Gurgaon/Gurugram, Bangalore/Bengaluru    3-8 Yrs  \n",
       "5  Hyderabad/Secunderabad, Pune, Chennai, Delhi /...    0-4 Yrs  \n",
       "6               Noida, Gurgaon/Gurugram, Delhi / NCR    3-7 Yrs  \n",
       "7                                   New Delhi, Delhi    2-7 Yrs  \n",
       "8                                   Gurgaon/Gurugram    5-8 Yrs  \n",
       "9                                 Gurgaon, Bengaluru    3-7 Yrs  "
      ]
     },
     "execution_count": 174,
     "metadata": {},
     "output_type": "execute_result"
    }
   ],
   "source": [
    "import pandas as pd\n",
    "df=pd.DataFrame({\"Job Title\":tit,\"Company Name\":cmp,\"Location\":lok,\"Experiance\":exp})\n",
    "df[0:10]"
   ]
  },
  {
   "cell_type": "code",
   "execution_count": 105,
   "id": "1299504e",
   "metadata": {},
   "outputs": [],
   "source": [
    "#Q4: Scrape data of first 100 sunglasses listings on flipkart.com. You have to scrape four attributes:\n",
    "#1. Brand\n",
    "#2. Product Description\n",
    "#3. Price"
   ]
  },
  {
   "cell_type": "code",
   "execution_count": 122,
   "id": "b4bba141",
   "metadata": {},
   "outputs": [],
   "source": [
    "driver=webdriver.Chrome(r'C:\\Users\\polasasuresh\\Downloads\\chromedriver_win32\\chromedriver.exe')"
   ]
  },
  {
   "cell_type": "code",
   "execution_count": 123,
   "id": "786e9f6e",
   "metadata": {},
   "outputs": [],
   "source": [
    "driver.get('https://www.flipkart.com')"
   ]
  },
  {
   "cell_type": "code",
   "execution_count": 124,
   "id": "a6764bad",
   "metadata": {},
   "outputs": [],
   "source": [
    "#2. Enter “sunglasses” in the search field\n",
    "s_field=driver.find_element_by_class_name(\"_3704LK\")\n",
    "s_field.send_keys(\"sunglasses\")"
   ]
  },
  {
   "cell_type": "code",
   "execution_count": 125,
   "id": "102b3e7f",
   "metadata": {},
   "outputs": [],
   "source": [
    "#clicking close button of login screen\n",
    "driver.find_element_by_xpath('/html/body/div[2]/div/div/button').click()"
   ]
  },
  {
   "cell_type": "code",
   "execution_count": 126,
   "id": "20035ec0",
   "metadata": {},
   "outputs": [],
   "source": [
    "#click the search icon\n",
    "s_button=driver.find_element_by_xpath('/html/body/div[1]/div/div[1]/div[1]/div[2]/div[2]/form/div/button')\n",
    "s_button.click()\n"
   ]
  },
  {
   "cell_type": "code",
   "execution_count": 127,
   "id": "dc862b9f",
   "metadata": {},
   "outputs": [],
   "source": [
    "brands=[]\n",
    "pro_desp=[]\n",
    "prices=[]"
   ]
  },
  {
   "cell_type": "code",
   "execution_count": 128,
   "id": "eb29ef85",
   "metadata": {},
   "outputs": [],
   "source": [
    "for i in range(0,4):\n",
    "    \n",
    "    title_tag=driver.find_elements_by_xpath(\"//div[@class='_2WkVRV']\")\n",
    "    \n",
    "    for i in title_tag:\n",
    "        brands.append(i.text)\n",
    "    \n",
    "    desc_tag=driver.find_elements_by_xpath(\"//a[@class='IRpwTa']\")\n",
    "    \n",
    "    for k in desc_tag:\n",
    "        pro=k.text\n",
    "        pro_desp.append(pro)\n",
    "    prc_tag=driver.find_elements_by_xpath(\"//div[@class='_30jeq3']\")\n",
    "        \n",
    "    for l in prc_tag:\n",
    "        prc=l.text\n",
    "        prices.append(prc)\n",
    "    \n",
    "    #clicking next button\n",
    "    driver.find_element_by_xpath('/html/body/div[1]/div/div[3]/div[1]/div[2]/div[12]/div/div/nav/a[11]').click()\n",
    "    \n",
    "    time.sleep(5)"
   ]
  },
  {
   "cell_type": "code",
   "execution_count": 129,
   "id": "dc9bb69f",
   "metadata": {},
   "outputs": [
    {
     "data": {
      "text/html": [
       "<div>\n",
       "<style scoped>\n",
       "    .dataframe tbody tr th:only-of-type {\n",
       "        vertical-align: middle;\n",
       "    }\n",
       "\n",
       "    .dataframe tbody tr th {\n",
       "        vertical-align: top;\n",
       "    }\n",
       "\n",
       "    .dataframe thead th {\n",
       "        text-align: right;\n",
       "    }\n",
       "</style>\n",
       "<table border=\"1\" class=\"dataframe\">\n",
       "  <thead>\n",
       "    <tr style=\"text-align: right;\">\n",
       "      <th></th>\n",
       "      <th>Sunglasses Brand</th>\n",
       "      <th>Product Description</th>\n",
       "      <th>Price</th>\n",
       "    </tr>\n",
       "  </thead>\n",
       "  <tbody>\n",
       "    <tr>\n",
       "      <th>0</th>\n",
       "      <td>Arnette</td>\n",
       "      <td>Mirrored Retro Square Sunglasses (56)</td>\n",
       "      <td>₹2,549</td>\n",
       "    </tr>\n",
       "    <tr>\n",
       "      <th>1</th>\n",
       "      <td>Silver Kartz</td>\n",
       "      <td>UV Protection Clubmaster Sunglasses (53)</td>\n",
       "      <td>₹387</td>\n",
       "    </tr>\n",
       "    <tr>\n",
       "      <th>2</th>\n",
       "      <td>Fastrack</td>\n",
       "      <td>UV Protection Wayfarer Sunglasses (Free Size)</td>\n",
       "      <td>₹719</td>\n",
       "    </tr>\n",
       "    <tr>\n",
       "      <th>3</th>\n",
       "      <td>Fastrack</td>\n",
       "      <td>UV Protection Rectangular Sunglasses (Free Size)</td>\n",
       "      <td>₹575</td>\n",
       "    </tr>\n",
       "    <tr>\n",
       "      <th>4</th>\n",
       "      <td>Elligator</td>\n",
       "      <td>UV Protection Round Sunglasses (54)</td>\n",
       "      <td>₹355</td>\n",
       "    </tr>\n",
       "    <tr>\n",
       "      <th>...</th>\n",
       "      <td>...</td>\n",
       "      <td>...</td>\n",
       "      <td>...</td>\n",
       "    </tr>\n",
       "    <tr>\n",
       "      <th>95</th>\n",
       "      <td>Ray-Ban</td>\n",
       "      <td>UV Protection Over-sized Sunglasses (64)</td>\n",
       "      <td>₹8,709</td>\n",
       "    </tr>\n",
       "    <tr>\n",
       "      <th>96</th>\n",
       "      <td>PIRASO</td>\n",
       "      <td>UV Protection Retro Square Sunglasses (55)</td>\n",
       "      <td>₹399</td>\n",
       "    </tr>\n",
       "    <tr>\n",
       "      <th>97</th>\n",
       "      <td>VINCENT CHASE</td>\n",
       "      <td>UV Protection Rectangular Sunglasses (60)</td>\n",
       "      <td>₹799</td>\n",
       "    </tr>\n",
       "    <tr>\n",
       "      <th>98</th>\n",
       "      <td>GANSTA</td>\n",
       "      <td>Mirrored Rectangular Sunglasses (58)</td>\n",
       "      <td>₹224</td>\n",
       "    </tr>\n",
       "    <tr>\n",
       "      <th>99</th>\n",
       "      <td>Arnette</td>\n",
       "      <td>UV Protection Cat-eye Sunglasses (Free Size)</td>\n",
       "      <td>₹2,549</td>\n",
       "    </tr>\n",
       "  </tbody>\n",
       "</table>\n",
       "<p>100 rows × 3 columns</p>\n",
       "</div>"
      ],
      "text/plain": [
       "   Sunglasses Brand                               Product Description   Price\n",
       "0           Arnette             Mirrored Retro Square Sunglasses (56)  ₹2,549\n",
       "1      Silver Kartz          UV Protection Clubmaster Sunglasses (53)    ₹387\n",
       "2          Fastrack     UV Protection Wayfarer Sunglasses (Free Size)    ₹719\n",
       "3          Fastrack  UV Protection Rectangular Sunglasses (Free Size)    ₹575\n",
       "4         Elligator               UV Protection Round Sunglasses (54)    ₹355\n",
       "..              ...                                               ...     ...\n",
       "95          Ray-Ban          UV Protection Over-sized Sunglasses (64)  ₹8,709\n",
       "96           PIRASO        UV Protection Retro Square Sunglasses (55)    ₹399\n",
       "97    VINCENT CHASE         UV Protection Rectangular Sunglasses (60)    ₹799\n",
       "98           GANSTA              Mirrored Rectangular Sunglasses (58)    ₹224\n",
       "99          Arnette      UV Protection Cat-eye Sunglasses (Free Size)  ₹2,549\n",
       "\n",
       "[100 rows x 3 columns]"
      ]
     },
     "execution_count": 129,
     "metadata": {},
     "output_type": "execute_result"
    }
   ],
   "source": [
    "import pandas as pd\n",
    "df=pd.DataFrame({\"Sunglasses Brand\":brands[0:100],\"Product Description\":pro_desp[0:100],\"Price\":prices[0:100]})\n",
    "df[0:100]"
   ]
  },
  {
   "cell_type": "code",
   "execution_count": 130,
   "id": "6354d6bc",
   "metadata": {},
   "outputs": [],
   "source": [
    "#Q5: Scrape 100 reviews data from flipkart.com for iphone11 phone.\n",
    "#1. Rating\n",
    "#2. Review summary\n",
    "#3. Full review"
   ]
  },
  {
   "cell_type": "code",
   "execution_count": 131,
   "id": "6c4f9199",
   "metadata": {},
   "outputs": [],
   "source": [
    "rating=[]\n",
    "review=[]\n",
    "fullreview=[]\n",
    "page_url='https://www.flipkart.com/apple-iphone-11-black-64-gb-includes-earpods-power-adapter/product-reviews/itm0f37c2240b217?pid=MOBFKCTSVZAXUHGR&lid=LSTMOBFKCTSVZAXUHGREPBFGI&marketplace.'\n",
    "driver=webdriver.Chrome(r'C:\\Users\\polasasuresh\\Downloads\\chromedriver_win32\\chromedriver.exe')\n",
    "driver.get(page_url)\n",
    "for i in range(0,10):\n",
    "    ratings=driver.find_elements_by_xpath(\"//div[@class='_3LWZlK _1BLPMq']\")\n",
    "    reviews=driver.find_elements_by_xpath(\"//p[@class='_2-N8zT']\")\n",
    "    fullreviews=driver.find_elements_by_xpath(\"//div[@class='t-ZTKy']\")\n",
    "    for i in ratings:\n",
    "        rate=i.text\n",
    "        rating.append(rate)\n",
    "\n",
    "    for j in reviews:\n",
    "        rev=j.text\n",
    "        review.append(rev)\n",
    "\n",
    "    for k in fullreviews:\n",
    "        fulrev=k.text\n",
    "        fullreview.append(fulrev)\n"
   ]
  },
  {
   "cell_type": "code",
   "execution_count": 132,
   "id": "5742d1ff",
   "metadata": {},
   "outputs": [
    {
     "data": {
      "text/html": [
       "<div>\n",
       "<style scoped>\n",
       "    .dataframe tbody tr th:only-of-type {\n",
       "        vertical-align: middle;\n",
       "    }\n",
       "\n",
       "    .dataframe tbody tr th {\n",
       "        vertical-align: top;\n",
       "    }\n",
       "\n",
       "    .dataframe thead th {\n",
       "        text-align: right;\n",
       "    }\n",
       "</style>\n",
       "<table border=\"1\" class=\"dataframe\">\n",
       "  <thead>\n",
       "    <tr style=\"text-align: right;\">\n",
       "      <th></th>\n",
       "      <th>Ratings</th>\n",
       "      <th>Review</th>\n",
       "      <th>FullReview</th>\n",
       "    </tr>\n",
       "  </thead>\n",
       "  <tbody>\n",
       "    <tr>\n",
       "      <th>0</th>\n",
       "      <td>5</td>\n",
       "      <td>Brilliant</td>\n",
       "      <td>The Best Phone for the Money\\n\\nThe iPhone 11 ...</td>\n",
       "    </tr>\n",
       "    <tr>\n",
       "      <th>1</th>\n",
       "      <td>5</td>\n",
       "      <td>Simply awesome</td>\n",
       "      <td>Really satisfied with the Product I received.....</td>\n",
       "    </tr>\n",
       "    <tr>\n",
       "      <th>2</th>\n",
       "      <td>5</td>\n",
       "      <td>Best in the market!</td>\n",
       "      <td>Great iPhone very snappy experience as apple k...</td>\n",
       "    </tr>\n",
       "    <tr>\n",
       "      <th>3</th>\n",
       "      <td>5</td>\n",
       "      <td>Perfect product!</td>\n",
       "      <td>Amazing phone with great cameras and better ba...</td>\n",
       "    </tr>\n",
       "    <tr>\n",
       "      <th>4</th>\n",
       "      <td>5</td>\n",
       "      <td>Fabulous!</td>\n",
       "      <td>This is my first iOS phone. I am very happy wi...</td>\n",
       "    </tr>\n",
       "    <tr>\n",
       "      <th>...</th>\n",
       "      <td>...</td>\n",
       "      <td>...</td>\n",
       "      <td>...</td>\n",
       "    </tr>\n",
       "    <tr>\n",
       "      <th>95</th>\n",
       "      <td>5</td>\n",
       "      <td>Worth every penny</td>\n",
       "      <td>Previously I was using one plus 3t it was a gr...</td>\n",
       "    </tr>\n",
       "    <tr>\n",
       "      <th>96</th>\n",
       "      <td>5</td>\n",
       "      <td>Great product</td>\n",
       "      <td>Amazing Powerful and Durable Gadget.\\n\\nI’m am...</td>\n",
       "    </tr>\n",
       "    <tr>\n",
       "      <th>97</th>\n",
       "      <td>5</td>\n",
       "      <td>Worth every penny</td>\n",
       "      <td>i11 is worthy to buy, too much happy with the ...</td>\n",
       "    </tr>\n",
       "    <tr>\n",
       "      <th>98</th>\n",
       "      <td>4</td>\n",
       "      <td>Good choice</td>\n",
       "      <td>So far it’s been an AMAZING experience coming ...</td>\n",
       "    </tr>\n",
       "    <tr>\n",
       "      <th>99</th>\n",
       "      <td>5</td>\n",
       "      <td>Highly recommended</td>\n",
       "      <td>What a camera .....just awesome ..you can feel...</td>\n",
       "    </tr>\n",
       "  </tbody>\n",
       "</table>\n",
       "<p>100 rows × 3 columns</p>\n",
       "</div>"
      ],
      "text/plain": [
       "   Ratings               Review  \\\n",
       "0        5            Brilliant   \n",
       "1        5       Simply awesome   \n",
       "2        5  Best in the market!   \n",
       "3        5     Perfect product!   \n",
       "4        5            Fabulous!   \n",
       "..     ...                  ...   \n",
       "95       5    Worth every penny   \n",
       "96       5        Great product   \n",
       "97       5    Worth every penny   \n",
       "98       4          Good choice   \n",
       "99       5   Highly recommended   \n",
       "\n",
       "                                           FullReview  \n",
       "0   The Best Phone for the Money\\n\\nThe iPhone 11 ...  \n",
       "1   Really satisfied with the Product I received.....  \n",
       "2   Great iPhone very snappy experience as apple k...  \n",
       "3   Amazing phone with great cameras and better ba...  \n",
       "4   This is my first iOS phone. I am very happy wi...  \n",
       "..                                                ...  \n",
       "95  Previously I was using one plus 3t it was a gr...  \n",
       "96  Amazing Powerful and Durable Gadget.\\n\\nI’m am...  \n",
       "97  i11 is worthy to buy, too much happy with the ...  \n",
       "98  So far it’s been an AMAZING experience coming ...  \n",
       "99  What a camera .....just awesome ..you can feel...  \n",
       "\n",
       "[100 rows x 3 columns]"
      ]
     },
     "execution_count": 132,
     "metadata": {},
     "output_type": "execute_result"
    }
   ],
   "source": [
    "import pandas as pd\n",
    "flipkart=pd.DataFrame({})\n",
    "flipkart['Ratings']=rating\n",
    "flipkart['Review']=review\n",
    "flipkart['FullReview']=fullreview\n",
    "flipkart"
   ]
  },
  {
   "cell_type": "code",
   "execution_count": 133,
   "id": "98c89516",
   "metadata": {},
   "outputs": [],
   "source": [
    "#Q6: Scrape data for first 100 sneakers you find when you visit flipkart.com andsearch for “sneakers” in thesearch field.\n",
    "#1. Brand\n",
    "#2. Product Description\n",
    "#3. price\n",
    "#4. discount"
   ]
  },
  {
   "cell_type": "code",
   "execution_count": 137,
   "id": "c344a7e3",
   "metadata": {},
   "outputs": [],
   "source": [
    "page_url='https://www.flipkart.com/'\n",
    "driver=webdriver.Chrome(r'C:\\Users\\polasasuresh\\Downloads\\chromedriver_win32\\chromedriver.exe')\n",
    "driver.get(page_url)"
   ]
  },
  {
   "cell_type": "code",
   "execution_count": 138,
   "id": "1525c128",
   "metadata": {},
   "outputs": [],
   "source": [
    "#clicking close button of login screen\n",
    "driver.find_element_by_xpath('/html/body/div[2]/div/div/button').click()"
   ]
  },
  {
   "cell_type": "code",
   "execution_count": 139,
   "id": "a14174e4",
   "metadata": {},
   "outputs": [],
   "source": [
    "brands=[]\n",
    "desc=[]\n",
    "price=[]\n",
    "discount=[]"
   ]
  },
  {
   "cell_type": "code",
   "execution_count": 140,
   "id": "48d4a616",
   "metadata": {},
   "outputs": [],
   "source": [
    "#Entering sneakers in the search field\n",
    "snk=driver.find_element_by_class_name(\"_3704LK\")\n",
    "snk.send_keys(\"sneakers\")"
   ]
  },
  {
   "cell_type": "code",
   "execution_count": 141,
   "id": "d2141eb1",
   "metadata": {},
   "outputs": [],
   "source": [
    "#clicking the search button\n",
    "srch=driver.find_element_by_xpath('/html/body/div[1]/div/div[1]/div[1]/div[2]/div[2]/form/div/button')\n",
    "srch.click()"
   ]
  },
  {
   "cell_type": "code",
   "execution_count": 142,
   "id": "6e9062c5",
   "metadata": {},
   "outputs": [],
   "source": [
    "for i in range(0,4):\n",
    "    brad=driver.find_elements_by_xpath(\"//div[@class='_2WkVRV']\")\n",
    "    des=driver.find_elements_by_xpath(\"//a[@class='IRpwTa']\")\n",
    "    prc=driver.find_elements_by_xpath(\"//div[@class='_30jeq3']\")\n",
    "    discnt=driver.find_elements_by_xpath(\"//div[@class='_3Ay6Sb']/span\")\n",
    "    for s in brad:\n",
    "        brands.append(s.text)\n",
    "    for d in des:\n",
    "        desc.append(d.text)\n",
    "    for k in prc:\n",
    "        price.append(k.text)\n",
    "    \n",
    "    for l in discnt:\n",
    "        discount.append(l.text)    \n",
    "    "
   ]
  },
  {
   "cell_type": "code",
   "execution_count": 143,
   "id": "321cbf47",
   "metadata": {},
   "outputs": [
    {
     "data": {
      "text/html": [
       "<div>\n",
       "<style scoped>\n",
       "    .dataframe tbody tr th:only-of-type {\n",
       "        vertical-align: middle;\n",
       "    }\n",
       "\n",
       "    .dataframe tbody tr th {\n",
       "        vertical-align: top;\n",
       "    }\n",
       "\n",
       "    .dataframe thead th {\n",
       "        text-align: right;\n",
       "    }\n",
       "</style>\n",
       "<table border=\"1\" class=\"dataframe\">\n",
       "  <thead>\n",
       "    <tr style=\"text-align: right;\">\n",
       "      <th></th>\n",
       "      <th>Brand</th>\n",
       "      <th>Product Description</th>\n",
       "      <th>Price</th>\n",
       "      <th>Discount</th>\n",
       "    </tr>\n",
       "  </thead>\n",
       "  <tbody>\n",
       "    <tr>\n",
       "      <th>0</th>\n",
       "      <td>RapidBox</td>\n",
       "      <td>Men White Solid Sneakers Sneakers For Men</td>\n",
       "      <td>₹720</td>\n",
       "      <td>27% off</td>\n",
       "    </tr>\n",
       "    <tr>\n",
       "      <th>1</th>\n",
       "      <td>Roadster</td>\n",
       "      <td>Canvas shoes for Men Sneakers For Men</td>\n",
       "      <td>₹1,487</td>\n",
       "      <td>54% off</td>\n",
       "    </tr>\n",
       "    <tr>\n",
       "      <th>2</th>\n",
       "      <td>URBANBOX</td>\n",
       "      <td>Sneakers For Men</td>\n",
       "      <td>₹198</td>\n",
       "      <td>80% off</td>\n",
       "    </tr>\n",
       "    <tr>\n",
       "      <th>3</th>\n",
       "      <td>BRUTON</td>\n",
       "      <td>STYLISH MENS BLACK SNEAKER Sneakers For Men</td>\n",
       "      <td>₹299</td>\n",
       "      <td>76% off</td>\n",
       "    </tr>\n",
       "    <tr>\n",
       "      <th>4</th>\n",
       "      <td>Labbin</td>\n",
       "      <td>Stylish Comfortable Lightweight, Breathable Wa...</td>\n",
       "      <td>₹499</td>\n",
       "      <td>50% off</td>\n",
       "    </tr>\n",
       "    <tr>\n",
       "      <th>...</th>\n",
       "      <td>...</td>\n",
       "      <td>...</td>\n",
       "      <td>...</td>\n",
       "      <td>...</td>\n",
       "    </tr>\n",
       "    <tr>\n",
       "      <th>95</th>\n",
       "      <td>SPARX</td>\n",
       "      <td>Sneakers For Men</td>\n",
       "      <td>₹756</td>\n",
       "      <td>15% off</td>\n",
       "    </tr>\n",
       "    <tr>\n",
       "      <th>96</th>\n",
       "      <td>BRUTON</td>\n",
       "      <td>Latest Collection-1227 Stylish Casual Sports S...</td>\n",
       "      <td>₹299</td>\n",
       "      <td>76% off</td>\n",
       "    </tr>\n",
       "    <tr>\n",
       "      <th>97</th>\n",
       "      <td>Kraasa</td>\n",
       "      <td>5011-Latest Collection Stylish &amp; Trendy Casual...</td>\n",
       "      <td>₹490</td>\n",
       "      <td>50% off</td>\n",
       "    </tr>\n",
       "    <tr>\n",
       "      <th>98</th>\n",
       "      <td>aadi</td>\n",
       "      <td>STYLISH MENS BLACK TRENDY SNEAKER FOR MENS Sne...</td>\n",
       "      <td>₹347</td>\n",
       "      <td>65% off</td>\n",
       "    </tr>\n",
       "    <tr>\n",
       "      <th>99</th>\n",
       "      <td>Roadster</td>\n",
       "      <td>Sneakers For Men</td>\n",
       "      <td>₹1,499</td>\n",
       "      <td>46% off</td>\n",
       "    </tr>\n",
       "  </tbody>\n",
       "</table>\n",
       "<p>100 rows × 4 columns</p>\n",
       "</div>"
      ],
      "text/plain": [
       "       Brand                                Product Description   Price  \\\n",
       "0   RapidBox          Men White Solid Sneakers Sneakers For Men    ₹720   \n",
       "1   Roadster              Canvas shoes for Men Sneakers For Men  ₹1,487   \n",
       "2   URBANBOX                                   Sneakers For Men    ₹198   \n",
       "3     BRUTON        STYLISH MENS BLACK SNEAKER Sneakers For Men    ₹299   \n",
       "4     Labbin  Stylish Comfortable Lightweight, Breathable Wa...    ₹499   \n",
       "..       ...                                                ...     ...   \n",
       "95     SPARX                                   Sneakers For Men    ₹756   \n",
       "96    BRUTON  Latest Collection-1227 Stylish Casual Sports S...    ₹299   \n",
       "97    Kraasa  5011-Latest Collection Stylish & Trendy Casual...    ₹490   \n",
       "98      aadi  STYLISH MENS BLACK TRENDY SNEAKER FOR MENS Sne...    ₹347   \n",
       "99  Roadster                                   Sneakers For Men  ₹1,499   \n",
       "\n",
       "   Discount  \n",
       "0   27% off  \n",
       "1   54% off  \n",
       "2   80% off  \n",
       "3   76% off  \n",
       "4   50% off  \n",
       "..      ...  \n",
       "95  15% off  \n",
       "96  76% off  \n",
       "97  50% off  \n",
       "98  65% off  \n",
       "99  46% off  \n",
       "\n",
       "[100 rows x 4 columns]"
      ]
     },
     "execution_count": 143,
     "metadata": {},
     "output_type": "execute_result"
    }
   ],
   "source": [
    "import pandas as pd\n",
    "snkr=pd.DataFrame({})\n",
    "snkr['Brand']=brands[0:100]\n",
    "snkr['Product Description']=desc[0:100]\n",
    "snkr['Price']=price[0:100]\n",
    "snkr['Discount']=discount[0:100]\n",
    "snkr[0:100]"
   ]
  },
  {
   "cell_type": "code",
   "execution_count": 155,
   "id": "8fb9923b",
   "metadata": {},
   "outputs": [],
   "source": [
    "#Q7: Go to the link - https://www.myntra.com/shoes\n",
    "#Set Price filter to “Rs. 7149 to Rs. 14099 ” , Color filter to “Black”\n",
    "#And then scrape First 100 shoes data you get. The data should include “Brand” of the shoes , Short Shoe description, price of the shoe"
   ]
  },
  {
   "cell_type": "code",
   "execution_count": 144,
   "id": "7415c9fb",
   "metadata": {},
   "outputs": [],
   "source": [
    "driver=webdriver.Chrome(r'C:\\Users\\polasasuresh\\Downloads\\chromedriver_win32\\chromedriver.exe')"
   ]
  },
  {
   "cell_type": "code",
   "execution_count": 145,
   "id": "c55907d1",
   "metadata": {},
   "outputs": [],
   "source": [
    "driver.get('https://www.myntra.com/shoes')"
   ]
  },
  {
   "cell_type": "code",
   "execution_count": 148,
   "id": "0b7c1be5",
   "metadata": {},
   "outputs": [],
   "source": [
    "#setting the price filter to \"Rs.7149 to Rs. 14099\"\n",
    "driver.find_element_by_xpath(\"/html/body/div[2]/div/div[1]/main/div[3]/div[1]/section/div/div[5]/ul/li[2]\").click()"
   ]
  },
  {
   "cell_type": "code",
   "execution_count": 150,
   "id": "7b2eca5f",
   "metadata": {},
   "outputs": [],
   "source": [
    "#setting the color filter to \"Black\"\n",
    "driver.find_element_by_xpath(\"/html/body/div[2]/div/div[1]/main/div[3]/div[1]/section/div/div[6]/ul/li[1]\").click()"
   ]
  },
  {
   "cell_type": "code",
   "execution_count": 151,
   "id": "6e9ac94f",
   "metadata": {},
   "outputs": [],
   "source": [
    "#scraping the 100 shoes data\n",
    "br=driver.find_elements_by_xpath(\"//h3[@class='product-brand']\")\n",
    "d=driver.find_elements_by_xpath(\"//h4[@class='product-product']\")\n",
    "p=driver.find_elements_by_xpath(\"//div[@class='product-price']\")"
   ]
  },
  {
   "cell_type": "code",
   "execution_count": 152,
   "id": "3fa01cbc",
   "metadata": {},
   "outputs": [],
   "source": [
    "br=[]\n",
    "des=[]\n",
    "prc=[]"
   ]
  },
  {
   "cell_type": "code",
   "execution_count": 153,
   "id": "e33b974c",
   "metadata": {},
   "outputs": [],
   "source": [
    "for i in range(0,2):\n",
    "    b=driver.find_elements_by_xpath(\"//h3[@class='product-brand']\")\n",
    "    ds=d=driver.find_elements_by_xpath(\"//h4[@class='product-product']\")\n",
    "    p=driver.find_elements_by_xpath(\"//div[@class='product-price']\")\n",
    "    for j in b:\n",
    "        br.append(j.text)\n",
    "    for k in ds:\n",
    "        des.append(k.text)\n",
    "    for l in p:\n",
    "        prc.append(l.text)\n",
    "        "
   ]
  },
  {
   "cell_type": "code",
   "execution_count": 154,
   "id": "1098ce30",
   "metadata": {},
   "outputs": [
    {
     "data": {
      "text/html": [
       "<div>\n",
       "<style scoped>\n",
       "    .dataframe tbody tr th:only-of-type {\n",
       "        vertical-align: middle;\n",
       "    }\n",
       "\n",
       "    .dataframe tbody tr th {\n",
       "        vertical-align: top;\n",
       "    }\n",
       "\n",
       "    .dataframe thead th {\n",
       "        text-align: right;\n",
       "    }\n",
       "</style>\n",
       "<table border=\"1\" class=\"dataframe\">\n",
       "  <thead>\n",
       "    <tr style=\"text-align: right;\">\n",
       "      <th></th>\n",
       "      <th>Brand</th>\n",
       "      <th>Description</th>\n",
       "      <th>Price</th>\n",
       "    </tr>\n",
       "  </thead>\n",
       "  <tbody>\n",
       "    <tr>\n",
       "      <th>0</th>\n",
       "      <td>ALDO</td>\n",
       "      <td>Men Textured Slip-On Sneakers</td>\n",
       "      <td>Rs. 12999</td>\n",
       "    </tr>\n",
       "    <tr>\n",
       "      <th>1</th>\n",
       "      <td>ALDO</td>\n",
       "      <td>Men Sneakers</td>\n",
       "      <td>Rs. 9999</td>\n",
       "    </tr>\n",
       "    <tr>\n",
       "      <th>2</th>\n",
       "      <td>Skechers</td>\n",
       "      <td>Men Max Cushioning Running</td>\n",
       "      <td>Rs. 7649Rs. 8999(15% OFF)</td>\n",
       "    </tr>\n",
       "    <tr>\n",
       "      <th>3</th>\n",
       "      <td>UNDER ARMOUR</td>\n",
       "      <td>Men Vantage 2 Running Shoes</td>\n",
       "      <td>Rs. 7999</td>\n",
       "    </tr>\n",
       "    <tr>\n",
       "      <th>4</th>\n",
       "      <td>Nike</td>\n",
       "      <td>Women React MR 3 Running Shoes</td>\n",
       "      <td>Rs. 8920Rs. 10495(15% OFF)</td>\n",
       "    </tr>\n",
       "    <tr>\n",
       "      <th>...</th>\n",
       "      <td>...</td>\n",
       "      <td>...</td>\n",
       "      <td>...</td>\n",
       "    </tr>\n",
       "    <tr>\n",
       "      <th>95</th>\n",
       "      <td>Geox</td>\n",
       "      <td>Men Textured Leather Driving Shoes</td>\n",
       "      <td>Rs. 10990</td>\n",
       "    </tr>\n",
       "    <tr>\n",
       "      <th>96</th>\n",
       "      <td>Louis Philippe</td>\n",
       "      <td>Men Solid Leather Formal Loafers</td>\n",
       "      <td>Rs. 9999</td>\n",
       "    </tr>\n",
       "    <tr>\n",
       "      <th>97</th>\n",
       "      <td>PUMA Motorsport</td>\n",
       "      <td>Unisex Porsche Legacy Sneakers</td>\n",
       "      <td>Rs. 7999</td>\n",
       "    </tr>\n",
       "    <tr>\n",
       "      <th>98</th>\n",
       "      <td>Hush Puppies</td>\n",
       "      <td>Men Solid Leather Formal Derbys</td>\n",
       "      <td>Rs. 8499Rs. 9999(15% OFF)</td>\n",
       "    </tr>\n",
       "    <tr>\n",
       "      <th>99</th>\n",
       "      <td>Puma</td>\n",
       "      <td>Men Velocity Nitro 2 Running</td>\n",
       "      <td>Rs. 8799Rs. 10999(20% OFF)</td>\n",
       "    </tr>\n",
       "  </tbody>\n",
       "</table>\n",
       "<p>100 rows × 3 columns</p>\n",
       "</div>"
      ],
      "text/plain": [
       "              Brand                         Description  \\\n",
       "0              ALDO       Men Textured Slip-On Sneakers   \n",
       "1              ALDO                        Men Sneakers   \n",
       "2          Skechers          Men Max Cushioning Running   \n",
       "3      UNDER ARMOUR         Men Vantage 2 Running Shoes   \n",
       "4              Nike      Women React MR 3 Running Shoes   \n",
       "..              ...                                 ...   \n",
       "95             Geox  Men Textured Leather Driving Shoes   \n",
       "96   Louis Philippe    Men Solid Leather Formal Loafers   \n",
       "97  PUMA Motorsport      Unisex Porsche Legacy Sneakers   \n",
       "98     Hush Puppies     Men Solid Leather Formal Derbys   \n",
       "99             Puma        Men Velocity Nitro 2 Running   \n",
       "\n",
       "                         Price  \n",
       "0                    Rs. 12999  \n",
       "1                     Rs. 9999  \n",
       "2    Rs. 7649Rs. 8999(15% OFF)  \n",
       "3                     Rs. 7999  \n",
       "4   Rs. 8920Rs. 10495(15% OFF)  \n",
       "..                         ...  \n",
       "95                   Rs. 10990  \n",
       "96                    Rs. 9999  \n",
       "97                    Rs. 7999  \n",
       "98   Rs. 8499Rs. 9999(15% OFF)  \n",
       "99  Rs. 8799Rs. 10999(20% OFF)  \n",
       "\n",
       "[100 rows x 3 columns]"
      ]
     },
     "execution_count": 154,
     "metadata": {},
     "output_type": "execute_result"
    }
   ],
   "source": [
    "import pandas as pd\n",
    "df=pd.DataFrame({\"Brand\":br,\"Description\":des,\"Price\":prc})\n",
    "df"
   ]
  },
  {
   "cell_type": "code",
   "execution_count": 156,
   "id": "b2fe585c",
   "metadata": {},
   "outputs": [],
   "source": [
    "#Q8: Go to webpage https://www.amazon.in/ Enter “Laptop” in the search field and then click the search icon.\n",
    "#Then set CPU Type filter to “Intel Core i7” and “Intel Core i9” as shown in the below image:\n",
    "#After setting the filters scrape first 10 laptops data. You have to scrape 3 attributesfor each laptop:\n",
    "#1. Title\n",
    "#2. Ratings\n",
    "#3. Price"
   ]
  },
  {
   "cell_type": "code",
   "execution_count": 175,
   "id": "3ff950b3",
   "metadata": {},
   "outputs": [],
   "source": [
    "page_url='https://www.amazon.in/'\n",
    "driver=webdriver.Chrome(r'C:\\Users\\polasasuresh\\Downloads\\chromedriver_win32\\chromedriver.exe')\n",
    "driver.get(page_url)"
   ]
  },
  {
   "cell_type": "code",
   "execution_count": 176,
   "id": "6bedc431",
   "metadata": {},
   "outputs": [],
   "source": [
    "brands=[]\n",
    "rating=[]\n",
    "price=[]"
   ]
  },
  {
   "cell_type": "code",
   "execution_count": 177,
   "id": "16ceccf4",
   "metadata": {},
   "outputs": [],
   "source": [
    "#Enter “Laptop” in the search field \n",
    "input_key=driver.find_element_by_xpath(\"/html/body/div[1]/header/div/div[1]/div[2]/div/form/div[2]/div[1]/input\")\n",
    "input_key.send_keys(\"Laptop\")"
   ]
  },
  {
   "cell_type": "code",
   "execution_count": 178,
   "id": "150eb84c",
   "metadata": {},
   "outputs": [],
   "source": [
    "#clicking search button\n",
    "driver.find_element_by_xpath(\"/html/body/div[1]/header/div/div[1]/div[2]/div/form/div[3]/div/span/input\").click()"
   ]
  },
  {
   "cell_type": "code",
   "execution_count": 179,
   "id": "de0991b7",
   "metadata": {},
   "outputs": [],
   "source": [
    "#clicking intel core i9 checkbox\n",
    "driver.find_element_by_xpath(\"/html/body/div[2]/div[2]/div[1]/div[2]/div/div[3]/span/div[1]/div/div/div[6]/ul[4]/li[12]/span/a\").click()"
   ]
  },
  {
   "cell_type": "code",
   "execution_count": 180,
   "id": "8077d936",
   "metadata": {},
   "outputs": [],
   "source": [
    "#scraping laptop brand\n",
    "b=driver.find_elements_by_xpath(\"//span[@class='a-size-medium a-color-base a-text-normal']\")\n",
    "for i in b:\n",
    "    brands.append(i.text)"
   ]
  },
  {
   "cell_type": "code",
   "execution_count": 16,
   "id": "e18caa5a",
   "metadata": {},
   "outputs": [],
   "source": [
    "r=driver.find_elements_by_xpath(\"//a[@class='a-popover-trigger a-declarative']/i\")"
   ]
  },
  {
   "cell_type": "code",
   "execution_count": 17,
   "id": "4dee9d93",
   "metadata": {},
   "outputs": [],
   "source": [
    "for i in r:\n",
    "    rating.append(i.text)"
   ]
  },
  {
   "cell_type": "code",
   "execution_count": 181,
   "id": "10a3c370",
   "metadata": {},
   "outputs": [],
   "source": [
    "#scraping price \n",
    "pr=driver.find_elements_by_xpath(\"//span[@class='a-price-whole']\")\n",
    "for i in pr:\n",
    "    price.append(i.text)"
   ]
  },
  {
   "cell_type": "code",
   "execution_count": 174,
   "id": "7ac64ccc",
   "metadata": {},
   "outputs": [
    {
     "data": {
      "text/html": [
       "<div>\n",
       "<style scoped>\n",
       "    .dataframe tbody tr th:only-of-type {\n",
       "        vertical-align: middle;\n",
       "    }\n",
       "\n",
       "    .dataframe tbody tr th {\n",
       "        vertical-align: top;\n",
       "    }\n",
       "\n",
       "    .dataframe thead th {\n",
       "        text-align: right;\n",
       "    }\n",
       "</style>\n",
       "<table border=\"1\" class=\"dataframe\">\n",
       "  <thead>\n",
       "    <tr style=\"text-align: right;\">\n",
       "      <th></th>\n",
       "      <th>Brand</th>\n",
       "      <th>Price</th>\n",
       "    </tr>\n",
       "  </thead>\n",
       "  <tbody>\n",
       "    <tr>\n",
       "      <th>0</th>\n",
       "      <td>Acer Predator Helios 300 11th Gen Intel Core i...</td>\n",
       "      <td>1,69,990</td>\n",
       "    </tr>\n",
       "    <tr>\n",
       "      <th>1</th>\n",
       "      <td>Mi Notebook Horizon Edition 14 Intel Core i7-1...</td>\n",
       "      <td>58,999</td>\n",
       "    </tr>\n",
       "    <tr>\n",
       "      <th>2</th>\n",
       "      <td>Mi Notebook Ultra 3.2K Resolution Display Inte...</td>\n",
       "      <td>77,990</td>\n",
       "    </tr>\n",
       "    <tr>\n",
       "      <th>3</th>\n",
       "      <td>Lenovo ThinkBook 15 Intel 11th Gen Core i7 15....</td>\n",
       "      <td>86,990</td>\n",
       "    </tr>\n",
       "    <tr>\n",
       "      <th>4</th>\n",
       "      <td>ASUS VivoBook 14 (2021), 14-inch (35.56 cms) F...</td>\n",
       "      <td>57,490</td>\n",
       "    </tr>\n",
       "    <tr>\n",
       "      <th>5</th>\n",
       "      <td>Samsung Galaxy Book2 Intel 12th Gen core i7 Ev...</td>\n",
       "      <td>79,990</td>\n",
       "    </tr>\n",
       "    <tr>\n",
       "      <th>6</th>\n",
       "      <td>HP Pavilion 14, 11th Gen Intel Core i7-16GB RA...</td>\n",
       "      <td>86,990</td>\n",
       "    </tr>\n",
       "    <tr>\n",
       "      <th>7</th>\n",
       "      <td>ASUS TUF Gaming F15 (2021), 15.6\" (39.62 cms) ...</td>\n",
       "      <td>89,990</td>\n",
       "    </tr>\n",
       "    <tr>\n",
       "      <th>8</th>\n",
       "      <td>HP Pavilion x360 11th Gen Intel Core i7 14 inc...</td>\n",
       "      <td>85,890</td>\n",
       "    </tr>\n",
       "    <tr>\n",
       "      <th>9</th>\n",
       "      <td>LG Gram 16 inches Intel Evo 11th Gen Core i7 U...</td>\n",
       "      <td>1,01,112</td>\n",
       "    </tr>\n",
       "  </tbody>\n",
       "</table>\n",
       "</div>"
      ],
      "text/plain": [
       "                                               Brand     Price\n",
       "0  Acer Predator Helios 300 11th Gen Intel Core i...  1,69,990\n",
       "1  Mi Notebook Horizon Edition 14 Intel Core i7-1...    58,999\n",
       "2  Mi Notebook Ultra 3.2K Resolution Display Inte...    77,990\n",
       "3  Lenovo ThinkBook 15 Intel 11th Gen Core i7 15....    86,990\n",
       "4  ASUS VivoBook 14 (2021), 14-inch (35.56 cms) F...    57,490\n",
       "5  Samsung Galaxy Book2 Intel 12th Gen core i7 Ev...    79,990\n",
       "6  HP Pavilion 14, 11th Gen Intel Core i7-16GB RA...    86,990\n",
       "7  ASUS TUF Gaming F15 (2021), 15.6\" (39.62 cms) ...    89,990\n",
       "8  HP Pavilion x360 11th Gen Intel Core i7 14 inc...    85,890\n",
       "9  LG Gram 16 inches Intel Evo 11th Gen Core i7 U...  1,01,112"
      ]
     },
     "execution_count": 174,
     "metadata": {},
     "output_type": "execute_result"
    }
   ],
   "source": [
    "import pandas as pd\n",
    "df=pd.DataFrame({\"Brand\":brands,\"Price\":price})\n",
    "df[0:10]"
   ]
  },
  {
   "cell_type": "code",
   "execution_count": 175,
   "id": "6350d88b",
   "metadata": {},
   "outputs": [],
   "source": [
    "#Q9: Write a python program to scrape data for first 10 job results for Data Scientist Designation in Noida\n",
    "#location. You have to scrape company name, No. of days ago when job was posted, Rating of the company."
   ]
  },
  {
   "cell_type": "code",
   "execution_count": 6,
   "id": "6888d961",
   "metadata": {},
   "outputs": [],
   "source": [
    "driver=webdriver.Chrome(r'C:\\Users\\polasasuresh\\Downloads\\chromedriver_win32\\chromedriver.exe')"
   ]
  },
  {
   "cell_type": "code",
   "execution_count": 7,
   "id": "2b2a124a",
   "metadata": {},
   "outputs": [],
   "source": [
    "driver.get('https://www.ambitionbox.com')"
   ]
  },
  {
   "cell_type": "code",
   "execution_count": 9,
   "id": "7bd23a94",
   "metadata": {},
   "outputs": [],
   "source": [
    "#clicking jobs button\n",
    "driver.find_element_by_xpath(\"/html/body/div[1]/nav/nav/a[6]\").click()"
   ]
  },
  {
   "cell_type": "code",
   "execution_count": 11,
   "id": "a6e318e4",
   "metadata": {},
   "outputs": [],
   "source": [
    "#Entering Designation as Data Scientist\n",
    "job=driver.find_element_by_xpath(\"/html/body/div/div/div/div[2]/div[1]/div[1]/div/div/div/div/span/input\")\n",
    "job.send_keys(\"Data Scientist\")"
   ]
  },
  {
   "cell_type": "code",
   "execution_count": 12,
   "id": "f6ad48c9",
   "metadata": {},
   "outputs": [],
   "source": [
    "#clicking on search Button\n",
    "driver.find_element_by_xpath('/html/body/div/div/div/div[2]/div[1]/div[1]/div/div/div/button').click()"
   ]
  },
  {
   "cell_type": "code",
   "execution_count": 13,
   "id": "25eb086e",
   "metadata": {},
   "outputs": [],
   "source": [
    "#clicking location tab\n",
    "driver.find_element_by_xpath('/html/body/div/div/div/div[2]/div[1]/div[2]/div[1]/div/div/div/div[2]/div/i').click()"
   ]
  },
  {
   "cell_type": "code",
   "execution_count": 14,
   "id": "4385098b",
   "metadata": {},
   "outputs": [],
   "source": [
    "#Entering location as \"Noida\"\n",
    "loc_input=driver.find_element_by_xpath(\"/html/body/div/div/div/div[2]/div[1]/div[2]/div[1]/div/div/div/div[2]/div[2]/div/div[2]/input\")\n",
    "loc_input.send_keys(\"Noida\")"
   ]
  },
  {
   "cell_type": "code",
   "execution_count": 15,
   "id": "fb0f5ce9",
   "metadata": {},
   "outputs": [],
   "source": [
    "#clicking location as \"Noida\"\n",
    "loc_select=driver.find_element_by_xpath(\"/html/body/div/div/div/div[2]/div[1]/div[2]/div[1]/div/div/div/div[2]/div[2]/div/div[3]/div[1]/div[1]/div/label\")\n",
    "loc_select.click()"
   ]
  },
  {
   "cell_type": "code",
   "execution_count": 16,
   "id": "c5dfc827",
   "metadata": {},
   "outputs": [],
   "source": [
    "com_name=[]\n",
    "no_of_days_ago=[]\n",
    "ratng=[]\n",
    "jdate=[]"
   ]
  },
  {
   "cell_type": "code",
   "execution_count": 17,
   "id": "81b05d31",
   "metadata": {},
   "outputs": [],
   "source": [
    "comname=driver.find_elements_by_xpath(\"//p[@class='company body-medium']\")"
   ]
  },
  {
   "cell_type": "code",
   "execution_count": 18,
   "id": "558b4f1a",
   "metadata": {},
   "outputs": [],
   "source": [
    "for i in comname:\n",
    "    c=i.text\n",
    "    com_name.append(c)"
   ]
  },
  {
   "cell_type": "code",
   "execution_count": 19,
   "id": "0ef0d62f",
   "metadata": {},
   "outputs": [],
   "source": [
    "days=driver.find_elements_by_xpath(\"//div[@class='other-info']/span[1]\")"
   ]
  },
  {
   "cell_type": "code",
   "execution_count": 20,
   "id": "b93f3509",
   "metadata": {},
   "outputs": [],
   "source": [
    "for i in days:\n",
    "    no_of_days_ago.append(i.text)"
   ]
  },
  {
   "cell_type": "code",
   "execution_count": 21,
   "id": "d29c9d37",
   "metadata": {},
   "outputs": [],
   "source": [
    "rating=driver.find_elements_by_xpath(\"//span[@class='body-small']\")"
   ]
  },
  {
   "cell_type": "code",
   "execution_count": 22,
   "id": "6dbf7128",
   "metadata": {},
   "outputs": [],
   "source": [
    "for i in rating:\n",
    "    ratng.append(i.text)"
   ]
  },
  {
   "cell_type": "code",
   "execution_count": 23,
   "id": "9dceba41",
   "metadata": {},
   "outputs": [
    {
     "data": {
      "text/html": [
       "<div>\n",
       "<style scoped>\n",
       "    .dataframe tbody tr th:only-of-type {\n",
       "        vertical-align: middle;\n",
       "    }\n",
       "\n",
       "    .dataframe tbody tr th {\n",
       "        vertical-align: top;\n",
       "    }\n",
       "\n",
       "    .dataframe thead th {\n",
       "        text-align: right;\n",
       "    }\n",
       "</style>\n",
       "<table border=\"1\" class=\"dataframe\">\n",
       "  <thead>\n",
       "    <tr style=\"text-align: right;\">\n",
       "      <th></th>\n",
       "      <th>CompanyName</th>\n",
       "      <th>NoofDays_AgoJobwasPosted</th>\n",
       "      <th>Rating</th>\n",
       "    </tr>\n",
       "  </thead>\n",
       "  <tbody>\n",
       "    <tr>\n",
       "      <th>0</th>\n",
       "      <td>EXL Services.com ( I ) Pvt. Ltd.</td>\n",
       "      <td>8d ago</td>\n",
       "      <td>3.9</td>\n",
       "    </tr>\n",
       "    <tr>\n",
       "      <th>1</th>\n",
       "      <td>GENPACT India Private Limited</td>\n",
       "      <td>20d ago</td>\n",
       "      <td>4.0</td>\n",
       "    </tr>\n",
       "    <tr>\n",
       "      <th>2</th>\n",
       "      <td>TECHNIP GLOBAL BUSINESS SERVICES PRIVATE LIMITED</td>\n",
       "      <td>6d ago</td>\n",
       "      <td>3.9</td>\n",
       "    </tr>\n",
       "    <tr>\n",
       "      <th>3</th>\n",
       "      <td>GENPACT India Private Limited</td>\n",
       "      <td>1mon ago</td>\n",
       "      <td>4.0</td>\n",
       "    </tr>\n",
       "    <tr>\n",
       "      <th>4</th>\n",
       "      <td>Bristlecone India Limited</td>\n",
       "      <td>15d ago</td>\n",
       "      <td>3.8</td>\n",
       "    </tr>\n",
       "    <tr>\n",
       "      <th>5</th>\n",
       "      <td>Zyoin</td>\n",
       "      <td>19d ago</td>\n",
       "      <td>4.1</td>\n",
       "    </tr>\n",
       "    <tr>\n",
       "      <th>6</th>\n",
       "      <td>Ashkom Media India Private Limited</td>\n",
       "      <td>6d ago</td>\n",
       "      <td>3.7</td>\n",
       "    </tr>\n",
       "    <tr>\n",
       "      <th>7</th>\n",
       "      <td>Newgen Software Technologies Ltd.</td>\n",
       "      <td>21d ago</td>\n",
       "      <td>3.5</td>\n",
       "    </tr>\n",
       "    <tr>\n",
       "      <th>8</th>\n",
       "      <td>JK Technosoft Ltd</td>\n",
       "      <td>1mon ago</td>\n",
       "      <td>3.7</td>\n",
       "    </tr>\n",
       "    <tr>\n",
       "      <th>9</th>\n",
       "      <td>Pitney Bowes India Pvt Ltd</td>\n",
       "      <td>1mon ago</td>\n",
       "      <td>4.2</td>\n",
       "    </tr>\n",
       "  </tbody>\n",
       "</table>\n",
       "</div>"
      ],
      "text/plain": [
       "                                        CompanyName NoofDays_AgoJobwasPosted  \\\n",
       "0                  EXL Services.com ( I ) Pvt. Ltd.                   8d ago   \n",
       "1                     GENPACT India Private Limited                  20d ago   \n",
       "2  TECHNIP GLOBAL BUSINESS SERVICES PRIVATE LIMITED                   6d ago   \n",
       "3                     GENPACT India Private Limited                 1mon ago   \n",
       "4                         Bristlecone India Limited                  15d ago   \n",
       "5                                             Zyoin                  19d ago   \n",
       "6                Ashkom Media India Private Limited                   6d ago   \n",
       "7                 Newgen Software Technologies Ltd.                  21d ago   \n",
       "8                                 JK Technosoft Ltd                 1mon ago   \n",
       "9                        Pitney Bowes India Pvt Ltd                 1mon ago   \n",
       "\n",
       "  Rating  \n",
       "0    3.9  \n",
       "1    4.0  \n",
       "2    3.9  \n",
       "3    4.0  \n",
       "4    3.8  \n",
       "5    4.1  \n",
       "6    3.7  \n",
       "7    3.5  \n",
       "8    3.7  \n",
       "9    4.2  "
      ]
     },
     "execution_count": 23,
     "metadata": {},
     "output_type": "execute_result"
    }
   ],
   "source": [
    "import pandas as pd\n",
    "df=pd.DataFrame({\"CompanyName\":com_name,\"NoofDays_AgoJobwasPosted\":no_of_days_ago,\"Rating\":ratng})\n",
    "df[0:10]"
   ]
  },
  {
   "cell_type": "code",
   "execution_count": 24,
   "id": "b3e0f586",
   "metadata": {},
   "outputs": [],
   "source": [
    "#Q10: Write a python program to scrape the salary data for Data Scientist designation.\n",
    "#You have to scrape Company name, Number of salaries, Average salary, Minsalary, Max Salary."
   ]
  },
  {
   "cell_type": "code",
   "execution_count": 76,
   "id": "9ac0d22f",
   "metadata": {},
   "outputs": [],
   "source": [
    "driver=webdriver.Chrome(r'C:\\Users\\polasasuresh\\Downloads\\chromedriver_win32\\chromedriver.exe')"
   ]
  },
  {
   "cell_type": "code",
   "execution_count": 77,
   "id": "18fa97af",
   "metadata": {},
   "outputs": [],
   "source": [
    "driver.get('https://www.ambitionbox.com')"
   ]
  },
  {
   "cell_type": "code",
   "execution_count": 78,
   "id": "53eb49f2",
   "metadata": {},
   "outputs": [],
   "source": [
    "#clicking salaries tab\n",
    "driver.find_element_by_xpath(\"/html/body/div[1]/nav/nav/a[4]\").click()"
   ]
  },
  {
   "cell_type": "code",
   "execution_count": 79,
   "id": "2d40a873",
   "metadata": {},
   "outputs": [],
   "source": [
    "#Enters “Data Scientist” in place of “Search Job Profile” \n",
    "input_tag=driver.find_element_by_xpath(\"/html/body/div/div/div/main/section[1]/div[2]/div[1]/span/input\")\n",
    "input_tag.send_keys(\"Data Scientist\")\n",
    "input_tag.click()"
   ]
  },
  {
   "cell_type": "code",
   "execution_count": 80,
   "id": "4567a08b",
   "metadata": {},
   "outputs": [],
   "source": [
    "#clicking search box\n",
    "driver.find_element_by_xpath('/html/body/div/div/div/main/section[1]/div[2]/div[1]').click()"
   ]
  },
  {
   "cell_type": "code",
   "execution_count": 81,
   "id": "e9486492",
   "metadata": {},
   "outputs": [],
   "source": [
    "#clicking data scientist\n",
    "driver.find_element_by_xpath('/html/body/div/div/div/main/section[1]/div[2]/div[1]/span/div/div/div[1]/div/div/p').click()\n"
   ]
  },
  {
   "cell_type": "code",
   "execution_count": 150,
   "id": "3ed9528a",
   "metadata": {},
   "outputs": [],
   "source": [
    "cname=[]\n",
    "bsals=[]\n",
    "avg_sal=[]\n",
    "min_sal=[]\n",
    "max_sal=[]"
   ]
  },
  {
   "cell_type": "code",
   "execution_count": 158,
   "id": "d4e14d6f",
   "metadata": {},
   "outputs": [],
   "source": [
    "name=driver.find_elements_by_xpath(\"//div[@class='name']/a\")\n",
    "for i in name:\n",
    "    cname.append(i.text)"
   ]
  },
  {
   "cell_type": "code",
   "execution_count": 159,
   "id": "b1381a0a",
   "metadata": {},
   "outputs": [],
   "source": [
    "bsal=driver.find_elements_by_xpath(\"//div[@class='name']/span\")\n",
    "for i in bsal:\n",
    "    bsals.append(i.text)"
   ]
  },
  {
   "cell_type": "code",
   "execution_count": 160,
   "id": "5509e157",
   "metadata": {},
   "outputs": [],
   "source": [
    "sal=driver.find_elements_by_xpath(\"//p[@class='averageCtc']\")\n",
    "for i in sal:\n",
    "    avg_sal.append(i.text)"
   ]
  },
  {
   "cell_type": "code",
   "execution_count": 155,
   "id": "b0979fc3",
   "metadata": {},
   "outputs": [],
   "source": [
    "minsal=driver.find_elements_by_xpath(\"//div[@class='salary-values']/div[1]\")\n",
    "for j in minsal:\n",
    "    mn=j.text\n",
    "    min_sal.append(mn)"
   ]
  },
  {
   "cell_type": "code",
   "execution_count": 156,
   "id": "2284941c",
   "metadata": {},
   "outputs": [],
   "source": [
    "maxsal=driver.find_elements_by_xpath(\"//div[@class='salary-values']/div[2]\")\n",
    "for j in maxsal:\n",
    "    mn=j.text\n",
    "    max_sal.append(mn)"
   ]
  },
  {
   "cell_type": "code",
   "execution_count": 157,
   "id": "a1a9a993",
   "metadata": {},
   "outputs": [
    {
     "data": {
      "text/html": [
       "<div>\n",
       "<style scoped>\n",
       "    .dataframe tbody tr th:only-of-type {\n",
       "        vertical-align: middle;\n",
       "    }\n",
       "\n",
       "    .dataframe tbody tr th {\n",
       "        vertical-align: top;\n",
       "    }\n",
       "\n",
       "    .dataframe thead th {\n",
       "        text-align: right;\n",
       "    }\n",
       "</style>\n",
       "<table border=\"1\" class=\"dataframe\">\n",
       "  <thead>\n",
       "    <tr style=\"text-align: right;\">\n",
       "      <th></th>\n",
       "      <th>Company Name</th>\n",
       "      <th>Number of Salaries</th>\n",
       "      <th>Average_salary</th>\n",
       "      <th>Minimum Salary</th>\n",
       "      <th>Maximum Salary</th>\n",
       "    </tr>\n",
       "  </thead>\n",
       "  <tbody>\n",
       "    <tr>\n",
       "      <th>0</th>\n",
       "      <td>Walmart</td>\n",
       "      <td>based on 11 salaries</td>\n",
       "      <td>₹ 29.7L</td>\n",
       "      <td>₹ 25.0L</td>\n",
       "      <td>₹ 35.0L</td>\n",
       "    </tr>\n",
       "    <tr>\n",
       "      <th>1</th>\n",
       "      <td>Ab Inbev</td>\n",
       "      <td>based on 32 salaries</td>\n",
       "      <td>₹ 20.5L</td>\n",
       "      <td>₹ 15.0L</td>\n",
       "      <td>₹ 25.5L</td>\n",
       "    </tr>\n",
       "    <tr>\n",
       "      <th>2</th>\n",
       "      <td>Reliance Jio</td>\n",
       "      <td>based on 10 salaries</td>\n",
       "      <td>₹ 18.9L</td>\n",
       "      <td>₹ 5.6L</td>\n",
       "      <td>₹ 26.2L</td>\n",
       "    </tr>\n",
       "    <tr>\n",
       "      <th>3</th>\n",
       "      <td>ZS</td>\n",
       "      <td>based on 15 salaries</td>\n",
       "      <td>₹ 15.9L</td>\n",
       "      <td>₹ 9.8L</td>\n",
       "      <td>₹ 20.0L</td>\n",
       "    </tr>\n",
       "    <tr>\n",
       "      <th>4</th>\n",
       "      <td>Optum</td>\n",
       "      <td>based on 27 salaries</td>\n",
       "      <td>₹ 15.2L</td>\n",
       "      <td>₹ 11.0L</td>\n",
       "      <td>₹ 22.0L</td>\n",
       "    </tr>\n",
       "    <tr>\n",
       "      <th>5</th>\n",
       "      <td>Fractal Analytics</td>\n",
       "      <td>based on 81 salaries</td>\n",
       "      <td>₹ 15.2L</td>\n",
       "      <td>₹ 9.5L</td>\n",
       "      <td>₹ 22.0L</td>\n",
       "    </tr>\n",
       "    <tr>\n",
       "      <th>6</th>\n",
       "      <td>Tiger Analytics</td>\n",
       "      <td>based on 46 salaries</td>\n",
       "      <td>₹ 14.8L</td>\n",
       "      <td>₹ 9.0L</td>\n",
       "      <td>₹ 20.0L</td>\n",
       "    </tr>\n",
       "    <tr>\n",
       "      <th>7</th>\n",
       "      <td>UnitedHealth</td>\n",
       "      <td>based on 53 salaries</td>\n",
       "      <td>₹ 14.0L</td>\n",
       "      <td>₹ 8.3L</td>\n",
       "      <td>₹ 20.5L</td>\n",
       "    </tr>\n",
       "    <tr>\n",
       "      <th>8</th>\n",
       "      <td>Verizon</td>\n",
       "      <td>based on 14 salaries</td>\n",
       "      <td>₹ 12.7L</td>\n",
       "      <td>₹ 10.0L</td>\n",
       "      <td>₹ 21.0L</td>\n",
       "    </tr>\n",
       "    <tr>\n",
       "      <th>9</th>\n",
       "      <td>Ganit Business Solutions</td>\n",
       "      <td>based on 13 salaries</td>\n",
       "      <td>₹ 12.4L</td>\n",
       "      <td>₹ 8.5L</td>\n",
       "      <td>₹ 15.0L</td>\n",
       "    </tr>\n",
       "  </tbody>\n",
       "</table>\n",
       "</div>"
      ],
      "text/plain": [
       "               Company Name    Number of Salaries Average_salary  \\\n",
       "0                   Walmart  based on 11 salaries        ₹ 29.7L   \n",
       "1                  Ab Inbev  based on 32 salaries        ₹ 20.5L   \n",
       "2              Reliance Jio  based on 10 salaries        ₹ 18.9L   \n",
       "3                        ZS  based on 15 salaries        ₹ 15.9L   \n",
       "4                     Optum  based on 27 salaries        ₹ 15.2L   \n",
       "5         Fractal Analytics  based on 81 salaries        ₹ 15.2L   \n",
       "6           Tiger Analytics  based on 46 salaries        ₹ 14.8L   \n",
       "7              UnitedHealth  based on 53 salaries        ₹ 14.0L   \n",
       "8                   Verizon  based on 14 salaries        ₹ 12.7L   \n",
       "9  Ganit Business Solutions  based on 13 salaries        ₹ 12.4L   \n",
       "\n",
       "  Minimum Salary Maximum Salary  \n",
       "0        ₹ 25.0L        ₹ 35.0L  \n",
       "1        ₹ 15.0L        ₹ 25.5L  \n",
       "2         ₹ 5.6L        ₹ 26.2L  \n",
       "3         ₹ 9.8L        ₹ 20.0L  \n",
       "4        ₹ 11.0L        ₹ 22.0L  \n",
       "5         ₹ 9.5L        ₹ 22.0L  \n",
       "6         ₹ 9.0L        ₹ 20.0L  \n",
       "7         ₹ 8.3L        ₹ 20.5L  \n",
       "8        ₹ 10.0L        ₹ 21.0L  \n",
       "9         ₹ 8.5L        ₹ 15.0L  "
      ]
     },
     "execution_count": 157,
     "metadata": {},
     "output_type": "execute_result"
    }
   ],
   "source": [
    "import pandas as pd\n",
    "df=pd.DataFrame({\"Company Name\":cname,\"Number of Salaries\":bsals,\"Average_salary\":avg_sal,\"Minimum Salary\":min_sal,\"Maximum Salary\":max_sal})\n",
    "df[0:10]"
   ]
  },
  {
   "cell_type": "code",
   "execution_count": null,
   "id": "a21080f6",
   "metadata": {},
   "outputs": [],
   "source": []
  }
 ],
 "metadata": {
  "kernelspec": {
   "display_name": "Python 3",
   "language": "python",
   "name": "python3"
  },
  "language_info": {
   "codemirror_mode": {
    "name": "ipython",
    "version": 3
   },
   "file_extension": ".py",
   "mimetype": "text/x-python",
   "name": "python",
   "nbconvert_exporter": "python",
   "pygments_lexer": "ipython3",
   "version": "3.8.8"
  }
 },
 "nbformat": 4,
 "nbformat_minor": 5
}
