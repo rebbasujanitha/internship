{
 "cells": [
  {
   "cell_type": "markdown",
   "id": "dc56138f",
   "metadata": {},
   "source": [
    "1. Write a python program which searches all the product under a particular product from www.amazon.in. \n",
    "The product to be searched will be taken as input from user. For e.g. If user input is ‘guitar’. Then search for guitars."
   ]
  },
  {
   "cell_type": "code",
   "execution_count": null,
   "id": "5b0e2035",
   "metadata": {},
   "outputs": [],
   "source": [
    "import pandas as pd\n",
    "from selenium import webdriver\n",
    "import warnings\n",
    "warnings.filterwarnings('ignore')\n",
    "import time\n",
    "import requests\n",
    "from selenium.common.exceptions import StaleElementReferenceException,NoSuchElementException"
   ]
  },
  {
   "cell_type": "code",
   "execution_count": null,
   "id": "a7ff3f5a",
   "metadata": {},
   "outputs": [],
   "source": [
    "driver=webdriver.Chrome(r'C:\\Users\\polasasuresh\\Downloads\\chromedriver_win32 (1)\\chromedriver.exe')"
   ]
  },
  {
   "cell_type": "code",
   "execution_count": null,
   "id": "147df3e3",
   "metadata": {},
   "outputs": [],
   "source": [
    "driver.get(\"https://www.amazon.in\")"
   ]
  },
  {
   "cell_type": "code",
   "execution_count": null,
   "id": "a006b6e7",
   "metadata": {},
   "outputs": [],
   "source": [
    "#input for guitars\n",
    "url=input(\"Enter keyword to search\")\n",
    "search_input=driver.find_element_by_xpath(\"/html/body/div[1]/header/div/div[1]/div[2]/div/form/div[2]/div[1]/input\")\n",
    "search_input.send_keys(url)"
   ]
  },
  {
   "cell_type": "code",
   "execution_count": null,
   "id": "9d195e97",
   "metadata": {},
   "outputs": [],
   "source": [
    "#clicking the search button\n",
    "driver.find_element_by_xpath(\"/html/body/div[1]/header/div/div[1]/div[2]/div/form/div[3]/div/span/input\").click()"
   ]
  },
  {
   "cell_type": "code",
   "execution_count": null,
   "id": "5f87f134",
   "metadata": {},
   "outputs": [],
   "source": [
    "pro_name=[]\n",
    "pname=driver.find_elements_by_xpath(\"//a[@class='a-link-normal s-underline-text s-underline-link-text s-link-style a-text-normal']/span\")\n",
    "for i in pname:\n",
    "    if i.text is None:\n",
    "        pro_name.append(\"--\")\n",
    "    else:\n",
    "        pro_name.append(i.text)\n",
    "print(len(pro_name),pro_name)"
   ]
  },
  {
   "cell_type": "code",
   "execution_count": null,
   "id": "ffe7eef5",
   "metadata": {},
   "outputs": [],
   "source": []
  },
  {
   "cell_type": "markdown",
   "id": "546fc992",
   "metadata": {},
   "source": [
    "2. In the above question, now scrape the following details of each product listed in first 3 pages of your search results and save it in a data frame and csv. In case if any product has less than 3 pages in search \n",
    "results then scrape all the products available under that product name. Details to be scraped are: \"Brand Name\", \"Name of the Product\", \"Price\", \"Return/Exchange\", \"Expected Delivery\", \"Availability\" and \n",
    "“Product URL”. In case, if any of the details are missing for any of the product then replace it by “-“."
   ]
  },
  {
   "cell_type": "code",
   "execution_count": null,
   "id": "8f8c05ca",
   "metadata": {},
   "outputs": [],
   "source": [
    "\n",
    "urls = []\n",
    "for page in range(0,4):\n",
    "    try:\n",
    "        page_urls = driver.find_elements_by_xpath('//a[@class=\"a-link-normal s-no-outline\"]')\n",
    "        \n",
    "        \n",
    "        for url in page_urls:\n",
    "            url = url.get_attribute('href')     \n",
    "            if url[0:4]=='http':                \n",
    "                urls.append(url)                \n",
    "        print(\"Product urls of page {} has been scraped.\".format(page+1))\n",
    "        \n",
    "        \n",
    "        nxt_button = driver.find_element_by_xpath(\"//a[@class='s-pagination-item s-pagination-next s-pagination-button s-pagination-separator']\")      # Locating the next_button which is active\n",
    "        if nxt_button.text == 'Next→':                                           \n",
    "            nxt_button.click()                                                   \n",
    "            time.sleep(5)                                                        \n",
    "        \n",
    "        elif driver.find_element_by_xpath(\"//a[@class='s-pagination-item s-pagination-next s-pagination-button s-pagination-separator']\").text == 'Next→':    \n",
    "            print(\"No new pages exist. Breaking the loop\")  \n",
    "            break\n",
    "            \n",
    "    except StaleElementReferenceException as e:             \n",
    "        print(\"Stale Exception\")\n",
    "        next_page = nxt_button.get_attribute('href')        \n",
    "        driver.get(next_page)                               \n",
    "        "
   ]
  },
  {
   "cell_type": "code",
   "execution_count": null,
   "id": "4690c0b8",
   "metadata": {},
   "outputs": [],
   "source": [
    "prod = {}\n",
    "Brand=[]\n",
    "Name=[]\n",
    "Rating=[]\n",
    "Noofratings=[]\n",
    "Price=[]\n",
    "Exchange=[]\n",
    "ExpectedDelivery=[] \n",
    "Availability=[]\n",
    "OtherDetails=[]\n",
    "url_=[]"
   ]
  },
  {
   "cell_type": "code",
   "execution_count": null,
   "id": "3296e71c",
   "metadata": {},
   "outputs": [],
   "source": []
  },
  {
   "cell_type": "code",
   "execution_count": null,
   "id": "ab48bdc2",
   "metadata": {},
   "outputs": [],
   "source": [
    "for url in urls[:4]:\n",
    "    driver.get(url)                                                        \n",
    "    print(\"Scraping url = \", url)\n",
    "    \n",
    "    \n",
    "    try:\n",
    "        brand = driver.find_element_by_xpath('//a[@id=\"bylineInfo\"]')      \n",
    "        Brand.append(brand.text)\n",
    "    except NoSuchElementException:\n",
    "        Brand.append('-')\n",
    "    \n",
    "    try:\n",
    "        name = driver.find_element_by_xpath('//h1[@id=\"title\"]/span')      \n",
    "        Name.append(name.text)\n",
    "    except NoSuchElementException:\n",
    "        Name.append('-')\n",
    "    \n",
    "    try:\n",
    "        rating = driver.find_element_by_xpath('//span[@id=\"acrPopover\"]') \n",
    "        Rating.append(rating.get_attribute(\"title\"))\n",
    "    except NoSuchElementException:\n",
    "        Rating.append('-')\n",
    "    \n",
    "    try:\n",
    "        n_rating = driver.find_element_by_xpath('//a[@id=\"acrCustomerReviewLink\"]/span')     \n",
    "        Noofratings.append(n_rating.text)\n",
    "    except NoSuchElementException:\n",
    "        Noofratings.append('-')\n",
    "    \n",
    "    try:\n",
    "        price = driver.find_element_by_xpath('//span[@id=\"priceblock_ourprice\"]')            \n",
    "        Price.append(price.text)\n",
    "    except NoSuchElementException:\n",
    "        Price.append('-')\n",
    "    try:                                                                                    \n",
    "        ret = driver.find_element_by_xpath('//div[@data-name=\"RETURNS_POLICY\"]/span/div[2]/a')\n",
    "        Exchange.append(ret.text)\n",
    "    except NoSuchElementException:\n",
    "        Exchange.append('-')\n",
    "    try:\n",
    "        delivry = driver.find_element_by_xpath('//div[@id=\"ddmDeliveryMessage\"]/b')        \n",
    "        ExpectedDelivery.append(delivry.text)\n",
    "    except NoSuchElementException:\n",
    "        ExpectedDelivery.append('-')\n",
    "    \n",
    "    try:\n",
    "        avl = driver.find_element_by_xpath('//div[@id=\"availability\"]/span')              \n",
    "        Availability.append(avl.text)\n",
    "    except NoSuchElementException:\n",
    "        Availability.append('-')\n",
    "    \n",
    "    try:                                                                                    \n",
    "        dtls = driver.find_element_by_xpath('//ul[@class=\"a-unordered-list a-vertical a-spacing-mini\"]')\n",
    "        OtherDetails.append('  ||  '.join(dtls.text.split('\\n')))\n",
    "    except NoSuchElementException:\n",
    "        OtherDetails.append('-')\n",
    "    \n",
    "                                                    "
   ]
  },
  {
   "cell_type": "code",
   "execution_count": null,
   "id": "f30b03e5",
   "metadata": {},
   "outputs": [],
   "source": [
    "df=pd.DataFrame({\"Brand\":Brand,\"Name\":Name,\"Rating\":Rating,\"No.ofRatings\":Noofratings,\"Price\":price,\"Exchange\":Exchange,\"ExpectedDelivery\":ExpectedDelivery,\"Availability\":Availability,\"OtherDetails\":OtherDetails})\n",
    "df"
   ]
  },
  {
   "cell_type": "markdown",
   "id": "54d0140d",
   "metadata": {},
   "source": [
    "3. Write a python program to access the search bar and search button on images.google.com and scrape 10images each for keywords ‘fruits’, ‘cars’ and ‘Machine Learning’, ‘Guitar’, ‘Cakes’\n"
   ]
  },
  {
   "cell_type": "code",
   "execution_count": null,
   "id": "51b4ca3e",
   "metadata": {},
   "outputs": [],
   "source": [
    "driver=webdriver.Chrome(r'C:\\Users\\polasasuresh\\Downloads\\chromedriver_win32 (1)\\chromedriver.exe')"
   ]
  },
  {
   "cell_type": "code",
   "execution_count": null,
   "id": "53b09314",
   "metadata": {},
   "outputs": [],
   "source": [
    "driver.get(\"https://images.google.com \")"
   ]
  },
  {
   "cell_type": "code",
   "execution_count": null,
   "id": "58c3711e",
   "metadata": {},
   "outputs": [],
   "source": [
    "#clearing the searchbox\n",
    "search_input=driver.find_element_by_xpath(\"/html/body/div[1]/div[3]/form/div[1]/div[1]/div[1]/div/div[2]/input\")\n",
    "search_input.clear()"
   ]
  },
  {
   "cell_type": "code",
   "execution_count": null,
   "id": "ee32e09e",
   "metadata": {},
   "outputs": [],
   "source": [
    "#input keyword as fruits\n",
    "search_input=driver.find_element_by_xpath(\"/html/body/div[1]/div[3]/form/div[1]/div[1]/div[1]/div/div[2]/input\")\n",
    "search_input.send_keys(\"fruits\")"
   ]
  },
  {
   "cell_type": "code",
   "execution_count": null,
   "id": "56fe911a",
   "metadata": {},
   "outputs": [],
   "source": [
    "#clicking the search button\n",
    "driver.find_element_by_xpath(\"/html/body/div[1]/div[3]/form/div[1]/div[1]/div[1]/button/div/span\").click()"
   ]
  },
  {
   "cell_type": "code",
   "execution_count": null,
   "id": "394a1704",
   "metadata": {},
   "outputs": [],
   "source": [
    "#fruits urls\n",
    "for _ in range(1):\n",
    "    driver.execute_script(\"window.scrollBy(0,1000)\")\n",
    "    images=driver.find_elements_by_xpath(\"//img[@class='rg_i Q4LuWd']\")\n",
    "    img_urls=[]\n",
    "    img_data=[]\n",
    "    for image in images:\n",
    "        source=image.get_attribute('src')\n",
    "        if source is not None:\n",
    "            if (source[0:4]=='http'):\n",
    "                img_urls.append(source)\n",
    "    for i in range(len(img_urls)):\n",
    "        \n",
    "        if i>10:\n",
    "            break\n",
    "        print(\"Downloading {0} of {1} images\".format(i,10))\n",
    "        response=requests.get(img_urls[i])\n",
    "        file=open(r\"c:/users/polasasuresh/downloads/Fruits/images/img\"+str(i)+\".jpg\",\"wb\")\n",
    "        file.write(response.content)       \n",
    "            \n",
    "    "
   ]
  },
  {
   "cell_type": "code",
   "execution_count": null,
   "id": "654aa326",
   "metadata": {},
   "outputs": [],
   "source": [
    "#search for cars images\n",
    "search_input=driver.find_element_by_xpath(\"/html/body/c-wiz/c-wiz/div/div[3]/div[2]/div/div[1]/form/div[1]/div[2]/div/div[2]/input\")\n",
    "search_input.clear()\n",
    "search_input_cars=driver.find_element_by_xpath(\"/html/body/c-wiz/c-wiz/div/div[3]/div[2]/div/div[1]/form/div[1]/div[2]/div/div[2]/input\")\n",
    "search_input_cars.send_keys(\"cars\")\n",
    "#clicking the search button\n",
    "driver.find_element_by_xpath(\"/html/body/c-wiz/c-wiz/div/div[3]/div[2]/div/div[1]/form/div[1]/div[2]/button/div/span\").click()"
   ]
  },
  {
   "cell_type": "code",
   "execution_count": null,
   "id": "6ef0205a",
   "metadata": {},
   "outputs": [],
   "source": [
    "#cars url\n",
    "for _ in range(1):\n",
    "    driver.execute_script(\"window.scrollBy(0,1000)\")\n",
    "    images=driver.find_elements_by_xpath(\"//img[@class='rg_i Q4LuWd']\")\n",
    "    car_urls=[]\n",
    "    img_data=[]\n",
    "    for image in images:\n",
    "        source=image.get_attribute('src')\n",
    "        if source is not None:\n",
    "            if (source[0:4]=='http'):\n",
    "                car_urls.append(source)\n",
    "    for i in range(len(car_urls)):\n",
    "        if i>10:\n",
    "            break\n",
    "        print(\"Downloading {0} of {1} images\".format(i,10))\n",
    "        response=requests.get(car_urls[i])\n",
    "        file=open(r\"c:/users/polasasuresh/downloads/cars/images/img\"+str(i)+\".jpg\",\"wb\")\n",
    "        file.write(response.content)\n",
    "                \n",
    "            "
   ]
  },
  {
   "cell_type": "code",
   "execution_count": null,
   "id": "a5caed9d",
   "metadata": {},
   "outputs": [],
   "source": [
    "#search for MachineLearning images\n",
    "search_input=driver.find_element_by_xpath(\"/html/body/c-wiz/c-wiz/div/div[3]/div[2]/div/div[1]/form/div[1]/div[2]/div/div[2]/input\")\n",
    "search_input.clear()\n",
    "search_input_ml=driver.find_element_by_xpath(\"/html/body/c-wiz/c-wiz/div/div[3]/div[2]/div/div[1]/form/div[1]/div[2]/div/div[2]/input\")\n",
    "search_input_ml.send_keys(\"Machine Learning\")\n",
    "#clicking search button\n",
    "driver.find_element_by_xpath(\"/html/body/c-wiz/c-wiz/div/div[3]/div[2]/div/div[1]/form/div[1]/div[2]/button/div/span\").click()"
   ]
  },
  {
   "cell_type": "code",
   "execution_count": null,
   "id": "932fdee5",
   "metadata": {},
   "outputs": [],
   "source": [
    "#Machine Learning url\n",
    "for _ in range(1):\n",
    "    driver.execute_script(\"window.scrollBy(0,1000)\")\n",
    "    images=driver.find_elements_by_xpath(\"//img[@class='rg_i Q4LuWd']\")\n",
    "    ml_urls=[]\n",
    "    img_data=[]\n",
    "    for image in images:\n",
    "        source=image.get_attribute('src')\n",
    "        if source is not None:\n",
    "            if (source[0:4]=='http'):\n",
    "                ml_urls.append(source)\n",
    "    for i in range(len(ml_urls)):\n",
    "        if i>10:\n",
    "            break\n",
    "        print(\"Downloading {0} of {1} images\".format(i,10))\n",
    "        response=requests.get(ml_urls[i])\n",
    "        file=open(r\"c:/users/polasasuresh/downloads/ML/images/img\"+str(i)+\".jpg\",\"wb\")\n",
    "        file.write(response.content)"
   ]
  },
  {
   "cell_type": "code",
   "execution_count": null,
   "id": "654bce7c",
   "metadata": {},
   "outputs": [],
   "source": [
    "#search for guitar images\n",
    "search_input=driver.find_element_by_xpath(\"/html/body/c-wiz/c-wiz/div/div[3]/div[2]/div/div[1]/form/div[1]/div[2]/div/div[2]/input\")\n",
    "search_input.clear()\n",
    "search_input_guitar=driver.find_element_by_xpath(\"/html/body/c-wiz/c-wiz/div/div[3]/div[2]/div/div[1]/form/div[1]/div[2]/div/div[2]/input\")\n",
    "search_input_guitar.send_keys(\"Guitar\")\n",
    "#clicking search button\n",
    "driver.find_element_by_xpath(\"/html/body/c-wiz/c-wiz/div/div[3]/div[2]/div/div[1]/form/div[1]/div[2]/button/div/span\").click()"
   ]
  },
  {
   "cell_type": "code",
   "execution_count": null,
   "id": "5223f79d",
   "metadata": {},
   "outputs": [],
   "source": [
    "#Machine Learning url\n",
    "for _ in range(1):\n",
    "    driver.execute_script(\"window.scrollBy(0,1000)\")\n",
    "    images=driver.find_elements_by_xpath(\"//img[@class='rg_i Q4LuWd']\")\n",
    "    guitar_urls=[]\n",
    "    img_data=[]\n",
    "    for image in images:\n",
    "        source=image.get_attribute('src')\n",
    "        if source is not None:\n",
    "            if (source[0:4]=='http'):\n",
    "                guitar_urls.append(source)\n",
    "    for i in range(len(guitar_urls)):\n",
    "        if i>10:\n",
    "            break\n",
    "        print(\"Downloading {0} of {1} images\".format(i,10))\n",
    "        response=requests.get(guitar_urls[i])\n",
    "        file=open(r\"c:/users/polasasuresh/downloads/Guitar/images/img\"+str(i)+\".jpg\",\"wb\")\n",
    "        file.write(response.content)"
   ]
  },
  {
   "cell_type": "code",
   "execution_count": null,
   "id": "d101fdf8",
   "metadata": {},
   "outputs": [],
   "source": [
    "#input search for cakes images\n",
    "search_input=driver.find_element_by_xpath(\"/html/body/c-wiz/c-wiz/div/div[3]/div[2]/div/div[1]/form/div[1]/div[2]/div/div[2]/input\")\n",
    "search_input.clear()\n",
    "search_input_cars=driver.find_element_by_xpath(\"/html/body/c-wiz/c-wiz/div/div[3]/div[2]/div/div[1]/form/div[1]/div[2]/div/div[2]/input\")\n",
    "search_input_cars.send_keys(\"Cakes\")\n",
    "#clicking search button\n",
    "driver.find_element_by_xpath(\"/html/body/c-wiz/c-wiz/div/div[3]/div[2]/div/div[1]/form/div[1]/div[2]/button/div/span\").click()"
   ]
  },
  {
   "cell_type": "code",
   "execution_count": null,
   "id": "9bf31371",
   "metadata": {},
   "outputs": [],
   "source": [
    "#cars url\n",
    "for _ in range(1):\n",
    "    driver.execute_script(\"window.scrollBy(0,1000)\")\n",
    "    images=driver.find_elements_by_xpath(\"//img[@class='rg_i Q4LuWd']\")\n",
    "    cakes_urls=[]\n",
    "    img_data=[]\n",
    "    for image in images:\n",
    "        source=image.get_attribute('src')\n",
    "        if source is not None:\n",
    "            if (source[0:4]=='http'):\n",
    "                cakes_urls.append(source)\n",
    "    for i in range(len(cakes_urls)):\n",
    "        if i>10:\n",
    "            break\n",
    "        print(\"Downloading {0} of {1} images\".format(i,10))\n",
    "        response=requests.get(cakes_urls[i])\n",
    "        file=open(r\"c:/users/polasasuresh/downloads/cakes/images/img\"+str(i)+\".jpg\",\"wb\")\n",
    "        file.write(response.content)"
   ]
  },
  {
   "cell_type": "markdown",
   "id": "c505f0bc",
   "metadata": {},
   "source": [
    "4. Write a python program to search for a smartphone(e.g.: Oneplus Nord, pixel 4A, etc.) on www.flipkart.com scraped: “Brand Name”, “Smartphone name”, “Colour”, “RAM”, “Storage(ROM)”, “Primary Camera”, \n",
    "“Secondary Camera”, “Display Size”, “Battery Capacity”, “Price”, “Product URL”. Incase if any of the \n",
    "details is missing then replace it by “- “. Save your results in a dataframe and CSV."
   ]
  },
  {
   "cell_type": "code",
   "execution_count": null,
   "id": "4b433bc5",
   "metadata": {},
   "outputs": [],
   "source": [
    "driver=webdriver.Chrome(r'C:\\Users\\polasasuresh\\Downloads\\chromedriver_win32 (1)\\chromedriver.exe')"
   ]
  },
  {
   "cell_type": "code",
   "execution_count": null,
   "id": "f89a237f",
   "metadata": {},
   "outputs": [],
   "source": [
    "driver.get('https://www.flipkart.com')"
   ]
  },
  {
   "cell_type": "code",
   "execution_count": null,
   "id": "41ac88ed",
   "metadata": {},
   "outputs": [],
   "source": [
    "#closing login screen\n",
    "driver.find_element_by_xpath(\"/html/body/div[2]/div/div/button\").click()"
   ]
  },
  {
   "cell_type": "code",
   "execution_count": null,
   "id": "40e6ed0e",
   "metadata": {},
   "outputs": [],
   "source": [
    "#search for pixcel 4A\n",
    "search_bar=driver.find_element_by_xpath(\"/html/body/div[1]/div/div[1]/div[1]/div[2]/div[2]/form/div/div/input\")\n",
    "search_bar.send_keys(\"pixcel 4A\")"
   ]
  },
  {
   "cell_type": "code",
   "execution_count": null,
   "id": "1bfb8dc5",
   "metadata": {},
   "outputs": [],
   "source": [
    "#clicking search button\n",
    "driver.find_element_by_xpath(\"/html/body/div/div/div[1]/div[1]/div[2]/div[2]/form/div/button\").click()"
   ]
  },
  {
   "cell_type": "markdown",
   "id": "2d266c10",
   "metadata": {},
   "source": [
    "“Brand Name”, “Smartphone name”, “Colour”, “RAM”, “Storage(ROM)”, “Primary Camera”, “Secondary Camera”, “Display Size”, “Battery Capacity”, “Price”, “Product URL"
   ]
  },
  {
   "cell_type": "code",
   "execution_count": null,
   "id": "26caee65",
   "metadata": {},
   "outputs": [],
   "source": [
    "brand=[]\n",
    "name=[]\n",
    "colour=[]\n",
    "Ram=[]\n",
    "storage=[]\n",
    "cam1=[]\n",
    "cam2=[]\n",
    "disp_size=[]\n",
    "battery=[]\n",
    "price=[]\n",
    "url=[]"
   ]
  },
  {
   "cell_type": "code",
   "execution_count": null,
   "id": "2748eed2",
   "metadata": {},
   "outputs": [],
   "source": [
    "b=driver.find_elements_by_xpath(\"//div[@class='_4rR01T']\")\n",
    "for i in b:\n",
    "    brand.append(i.text)"
   ]
  },
  {
   "cell_type": "code",
   "execution_count": null,
   "id": "f25b2b7c",
   "metadata": {},
   "outputs": [],
   "source": [
    "import re\n",
    "rm=driver.find_elements_by_xpath(\"//ul[@class='_1xgFaf']\")\n",
    "for i in rm:\n",
    "    Ram.append(i.text.replace('|',\",\").split(\"\\n\"))"
   ]
  },
  {
   "cell_type": "code",
   "execution_count": null,
   "id": "51e59d18",
   "metadata": {},
   "outputs": [],
   "source": [
    "prc=driver.find_elements_by_xpath(\"//div[@class='_30jeq3 _1_WHN1']\")\n",
    "for i in prc:\n",
    "    if i.text is None:\n",
    "        price.append(\"--\")\n",
    "    else:\n",
    "        price.append(i.text)\n",
    "    "
   ]
  },
  {
   "cell_type": "code",
   "execution_count": null,
   "id": "184b2d9a",
   "metadata": {},
   "outputs": [],
   "source": [
    "#brand=[]name=[]colour=[]Ram=[]storage=[]cam1=[]cam2=[]disp_size=[]battery=[]price=[]url=[]\n",
    "df=pd.DataFrame(Ram,columns=['RAM','Display','camera','Batery','Processor','warranty','None'])\n",
    "df.insert(loc=0,column='Brand',value=brand)\n",
    "df.insert(loc=7,column='Price',value=price)\n",
    "df.drop('None',inplace=True,axis=1)\n",
    "df"
   ]
  },
  {
   "cell_type": "markdown",
   "id": "d6290c84",
   "metadata": {},
   "source": [
    "5. Write a program to scrap geospatial coordinates (latitude, longitude) of a city searched on google maps."
   ]
  },
  {
   "cell_type": "code",
   "execution_count": null,
   "id": "e173f2e4",
   "metadata": {},
   "outputs": [],
   "source": [
    "driver=webdriver.Chrome(r'C:\\Users\\polasasuresh\\Downloads\\chromedriver_win32 (1)\\chromedriver.exe')"
   ]
  },
  {
   "cell_type": "code",
   "execution_count": null,
   "id": "75a2f4b0",
   "metadata": {},
   "outputs": [],
   "source": [
    "driver.get(\"https://www.google.co.in/maps\")"
   ]
  },
  {
   "cell_type": "code",
   "execution_count": null,
   "id": "85deb14b",
   "metadata": {},
   "outputs": [],
   "source": [
    "driver.find_element_by_xpath(\"/html/body/div[3]/div[9]/div[3]/div[1]/div[1]/div[1]/div[2]/div[1]/button\").click()"
   ]
  },
  {
   "cell_type": "code",
   "execution_count": null,
   "id": "20021e4a",
   "metadata": {},
   "outputs": [],
   "source": [
    "try:\n",
    "    url=driver.current_url\n",
    "    print(\"Url Extracted\",url)\n",
    "    latitude=re.findall(r'@(.*)data',url)\n",
    "    if(len(latitude)):\n",
    "        longitude=latitude[0].split(\",\")\n",
    "        if(len(longitude)>=2):\n",
    "            latit=longitude[0]\n",
    "            long=longitude[1]\n",
    "        print(\"Latitude={},Longitude={}\".format(latit,long))\n",
    "except Exception as e:\n",
    "    print(\"Error\",str(e))\n"
   ]
  },
  {
   "cell_type": "markdown",
   "id": "2330604c",
   "metadata": {},
   "source": [
    "7. Write a program to scrap all the available details of best gaming laptops from digit.in."
   ]
  },
  {
   "cell_type": "code",
   "execution_count": null,
   "id": "4269319d",
   "metadata": {},
   "outputs": [],
   "source": [
    "driver=webdriver.Chrome(r'C:\\Users\\polasasuresh\\Downloads\\chromedriver_win32 (1)\\chromedriver.exe')"
   ]
  },
  {
   "cell_type": "code",
   "execution_count": null,
   "id": "87139a46",
   "metadata": {},
   "outputs": [],
   "source": [
    "driver.get(\"https://www.digit.in\")"
   ]
  },
  {
   "cell_type": "code",
   "execution_count": null,
   "id": "8607dddd",
   "metadata": {},
   "outputs": [],
   "source": [
    "#clicking laptop \n",
    "driver.find_element_by_xpath('/html/body/div[1]/div/div[4]/ul/li[3]/a').click()"
   ]
  },
  {
   "cell_type": "code",
   "execution_count": null,
   "id": "49f20b5b",
   "metadata": {},
   "outputs": [],
   "source": [
    "#clicking Best Gaming laptops\n",
    "driver.find_element_by_xpath('/html/body/div[6]/div/div[2]/div[2]/ul/li[10]/a').click()"
   ]
  },
  {
   "cell_type": "code",
   "execution_count": null,
   "id": "2c1e2255",
   "metadata": {},
   "outputs": [],
   "source": [
    "rows=1+len(driver.find_elements_by_xpath(\"/html/body/div[5]/div[1]/div[3]/table/tbody/tr\"))"
   ]
  },
  {
   "cell_type": "code",
   "execution_count": null,
   "id": "bb2fb731",
   "metadata": {},
   "outputs": [],
   "source": [
    "cols=len(driver.find_elements_by_xpath(\"/html/body/div[5]/div[1]/div[3]/table/tbody/tr[1]/td\"))"
   ]
  },
  {
   "cell_type": "code",
   "execution_count": null,
   "id": "5945d75d",
   "metadata": {},
   "outputs": [],
   "source": [
    "for r in range(1,rows+1):\n",
    "    for p in range(1,cols+1):\n",
    "        try:\n",
    "            value=driver.find_element_by_xpath(\"/html/body/div[5]/div[1]/div[3]/table/tbody/tr[\"+str(r)+\"]/td[\"+str(p)+\"]\").text\n",
    "            print(value,end=' ')\n",
    "        except NoSuchElementException as e:\n",
    "            print(\"exception raised\")\n",
    "            \n",
    "        "
   ]
  },
  {
   "cell_type": "code",
   "execution_count": null,
   "id": "29a5df0f",
   "metadata": {},
   "outputs": [],
   "source": [
    "brand=[]\n",
    "specification=[]\n",
    "price=[]\n",
    "Description=[]"
   ]
  },
  {
   "cell_type": "code",
   "execution_count": null,
   "id": "feb551d7",
   "metadata": {},
   "outputs": [],
   "source": [
    "br=driver.find_elements_by_xpath(\"//div[@class='TopNumbeHeading active sticky-footer']\")\n",
    "for i in br:\n",
    "    brand.append(i.text.replace(\"\\n\",\" \"))"
   ]
  },
  {
   "cell_type": "code",
   "execution_count": null,
   "id": "18423d08",
   "metadata": {},
   "outputs": [],
   "source": [
    "specific=driver.find_elements_by_xpath(\"//div[@class='Specs-Wrap']\")\n",
    "for i in specific:\n",
    "    specification.append(i.text.replace(\"\\n\",\" \"))"
   ]
  },
  {
   "cell_type": "code",
   "execution_count": null,
   "id": "9b3bc3ef",
   "metadata": {},
   "outputs": [],
   "source": [
    "desc=driver.find_elements_by_xpath(\"//div[@class='Section-center']\")\n",
    "for i in desc:\n",
    "    Description.append(i.text)"
   ]
  },
  {
   "cell_type": "code",
   "execution_count": null,
   "id": "bf15a2d5",
   "metadata": {},
   "outputs": [],
   "source": [
    "prc=driver.find_elements_by_xpath(\"//td[@class='smprice']\")\n",
    "for p in prc:\n",
    "    price.append(p.text)"
   ]
  },
  {
   "cell_type": "code",
   "execution_count": null,
   "id": "78e5f0e6",
   "metadata": {},
   "outputs": [],
   "source": [
    "len(brand),len(specification),len(Description),len(price)"
   ]
  },
  {
   "cell_type": "code",
   "execution_count": null,
   "id": "571cba6e",
   "metadata": {},
   "outputs": [],
   "source": [
    "df=pd.DataFrame({'Brand':brand,\"Specification\":specification,\"Description\":Description,\"Price\":price})\n",
    "df"
   ]
  },
  {
   "cell_type": "markdown",
   "id": "3871a5b5",
   "metadata": {},
   "source": [
    "8. Write a python program to scrape the details for all billionaires from www.forbes.com. Details to be scrapped: “Rank”, “Name”, “Net worth”, “Age”, “Citizenship”, “Source”, “Industry”."
   ]
  },
  {
   "cell_type": "code",
   "execution_count": 118,
   "id": "09c702ad",
   "metadata": {},
   "outputs": [],
   "source": [
    "driver=webdriver.Chrome(r'C:\\Users\\polasasuresh\\Downloads\\chromedriver_win32 (1)\\chromedriver.exe')"
   ]
  },
  {
   "cell_type": "code",
   "execution_count": 119,
   "id": "7f94a762",
   "metadata": {},
   "outputs": [],
   "source": [
    "driver.get(\"https://www.forbes.com\")"
   ]
  },
  {
   "cell_type": "code",
   "execution_count": 120,
   "id": "d981e874",
   "metadata": {},
   "outputs": [],
   "source": [
    "#clicking explore button\n",
    "driver.find_element_by_xpath('/html/body/div[1]/header/nav/div[1]/button[1]').click()"
   ]
  },
  {
   "cell_type": "code",
   "execution_count": 121,
   "id": "6d060876",
   "metadata": {},
   "outputs": [],
   "source": [
    "#clicking Billioniers button\n",
    "driver.find_element_by_xpath('/html/body/div[1]/header/nav/div[3]/ul/li[1]').click()"
   ]
  },
  {
   "cell_type": "code",
   "execution_count": 122,
   "id": "54f9ddec",
   "metadata": {},
   "outputs": [],
   "source": [
    "#clicking world Billionaires\n",
    "driver.find_element_by_xpath('/html/body/div[1]/header/nav/div[3]/ul/li[1]/div[2]/ul/li[2]/a').click()"
   ]
  },
  {
   "cell_type": "code",
   "execution_count": 123,
   "id": "99743ded",
   "metadata": {},
   "outputs": [],
   "source": [
    "Rank=[]\n",
    "Name=[]\n",
    "Networth=[]\n",
    "Age=[]\n",
    "country=[]\n",
    "source=[]\n",
    "Industry=[]"
   ]
  },
  {
   "cell_type": "code",
   "execution_count": 124,
   "id": "1614b688",
   "metadata": {},
   "outputs": [],
   "source": [
    "r=driver.find_elements_by_xpath(\"//div[@class='rank']\")\n",
    "for i in r:\n",
    "    if i.text is None:\n",
    "        Rank.append(\" \")\n",
    "    else:\n",
    "        Rank.append(i.text)"
   ]
  },
  {
   "cell_type": "code",
   "execution_count": 125,
   "id": "d77f5944",
   "metadata": {},
   "outputs": [],
   "source": [
    "n=driver.find_elements_by_xpath(\"//div[@class='personName']\")\n",
    "for i in n:\n",
    "    if i.text is None:\n",
    "        Name.append(\" \")\n",
    "    else:\n",
    "        Name.append(i.text)"
   ]
  },
  {
   "cell_type": "code",
   "execution_count": 126,
   "id": "d7265423",
   "metadata": {},
   "outputs": [],
   "source": [
    "nw=driver.find_elements_by_xpath(\"//div[@class='netWorth']\")\n",
    "for i in nw:\n",
    "    if i.text is None:\n",
    "        Networth.append(\" \")\n",
    "    else:\n",
    "        Networth.append(i.text)"
   ]
  },
  {
   "cell_type": "code",
   "execution_count": 127,
   "id": "40682627",
   "metadata": {},
   "outputs": [],
   "source": [
    "cntry=driver.find_elements_by_xpath(\"//div[@class='countryOfCitizenship']\")\n",
    "for i in cntry:\n",
    "    if i.text is None:\n",
    "        country.append(\" \")\n",
    "    else:\n",
    "        country.append(i.text)"
   ]
  },
  {
   "cell_type": "code",
   "execution_count": 128,
   "id": "3f2e4dc4",
   "metadata": {},
   "outputs": [],
   "source": [
    "srcs=driver.find_elements_by_xpath(\"//div[@class='expand-row__icon-container']\")\n",
    "for i in srcs:\n",
    "    if i.text is None:\n",
    "        source.append(\" \")\n",
    "    else:\n",
    "        source.append(i.text)"
   ]
  },
  {
   "cell_type": "code",
   "execution_count": 129,
   "id": "700345ae",
   "metadata": {},
   "outputs": [],
   "source": [
    "ind=driver.find_elements_by_xpath(\"//div[@class='category']\")\n",
    "for i in ind:\n",
    "    if i is None:\n",
    "        Industry.append(\" \")\n",
    "    else:\n",
    "        Industry.append(i.text)"
   ]
  },
  {
   "cell_type": "code",
   "execution_count": 130,
   "id": "9b519538",
   "metadata": {},
   "outputs": [
    {
     "data": {
      "text/html": [
       "<div>\n",
       "<style scoped>\n",
       "    .dataframe tbody tr th:only-of-type {\n",
       "        vertical-align: middle;\n",
       "    }\n",
       "\n",
       "    .dataframe tbody tr th {\n",
       "        vertical-align: top;\n",
       "    }\n",
       "\n",
       "    .dataframe thead th {\n",
       "        text-align: right;\n",
       "    }\n",
       "</style>\n",
       "<table border=\"1\" class=\"dataframe\">\n",
       "  <thead>\n",
       "    <tr style=\"text-align: right;\">\n",
       "      <th></th>\n",
       "      <th>Rank</th>\n",
       "      <th>Person Name</th>\n",
       "      <th>Networth</th>\n",
       "      <th>Country</th>\n",
       "      <th>Source</th>\n",
       "      <th>Industry</th>\n",
       "    </tr>\n",
       "  </thead>\n",
       "  <tbody>\n",
       "  </tbody>\n",
       "</table>\n",
       "</div>"
      ],
      "text/plain": [
       "Empty DataFrame\n",
       "Columns: [Rank, Person Name, Networth, Country, Source, Industry]\n",
       "Index: []"
      ]
     },
     "execution_count": 130,
     "metadata": {},
     "output_type": "execute_result"
    }
   ],
   "source": [
    "df=pd.DataFrame({\"Rank\":Rank,\"Person Name\":Name,\"Networth\":Networth,\"Country\":country,\"Source\":source,\"Industry\":Industry})\n",
    "df"
   ]
  },
  {
   "cell_type": "code",
   "execution_count": null,
   "id": "cb72948b",
   "metadata": {},
   "outputs": [],
   "source": [
    "9. Write a program to extract at least 500 Comments, Comment upvote and time when comment was posted from any YouTube Video."
   ]
  },
  {
   "cell_type": "code",
   "execution_count": 131,
   "id": "3e115c2b",
   "metadata": {},
   "outputs": [],
   "source": [
    "driver=webdriver.Chrome(r'C:\\Users\\polasasuresh\\Downloads\\chromedriver_win32 (1)\\chromedriver.exe')"
   ]
  },
  {
   "cell_type": "code",
   "execution_count": 132,
   "id": "06f49c25",
   "metadata": {},
   "outputs": [],
   "source": [
    "driver.get(\"https://www.youtube.com/watch?v=-ETQ97mXXF0\")"
   ]
  },
  {
   "cell_type": "code",
   "execution_count": 133,
   "id": "958d0a8e",
   "metadata": {},
   "outputs": [],
   "source": [
    "comments=[]\n",
    "vote=[]\n",
    "time_posted=[]"
   ]
  },
  {
   "cell_type": "code",
   "execution_count": null,
   "id": "55896f42",
   "metadata": {},
   "outputs": [],
   "source": [
    "comments=[]\n",
    "upvotes=[]\n",
    "time_posted=[]\n",
    "for _ in range(20):\n",
    "    driver.execute_script(\"window.scrollBy(0,1000)\")\n",
    "    comm=driver.find_elements_by_xpath(\"//yt-formatted-string[@class='style-scope ytd-comment-renderer']\")\n",
    "    upvote=driver.find_elements_by_xpath(\"//yt-icon[@class='style-scope ytd-toggle-button-renderer']\")\n",
    "    time_post=driver.find_elements_by_xpath(\"//a[@class='yt-simple-endpoint style-scope yt-formatted-string']\")\n",
    "    "
   ]
  },
  {
   "cell_type": "code",
   "execution_count": null,
   "id": "5b35beda",
   "metadata": {},
   "outputs": [],
   "source": [
    "for i in comm:\n",
    "    if i.text is None:\n",
    "        comments.append(\" \")\n",
    "    else:\n",
    "        comments.append(i.text)"
   ]
  },
  {
   "cell_type": "code",
   "execution_count": null,
   "id": "821641dc",
   "metadata": {},
   "outputs": [],
   "source": [
    "for i in upvote:\n",
    "    if i.text is None:\n",
    "        upvotes.append(\" \")\n",
    "    else:\n",
    "        upvotes.append(i.text)"
   ]
  },
  {
   "cell_type": "code",
   "execution_count": null,
   "id": "5e9b820e",
   "metadata": {},
   "outputs": [],
   "source": [
    "for i in time_post:\n",
    "    if i.text is None:\n",
    "        time_posted.append(\" \")\n",
    "    else:\n",
    "        time_posted.append(i.text)"
   ]
  },
  {
   "cell_type": "markdown",
   "id": "ae57c7e1",
   "metadata": {},
   "source": [
    "10. Write a python program to scrape a data for all available Hostels from https://www.hostelworld.com/ in “London” location. You have to scrape hostel name, distance from city centre, ratings, total reviews, \n",
    "overall reviews, privates from price, dorms from price, facilities and property description."
   ]
  },
  {
   "cell_type": "code",
   "execution_count": 134,
   "id": "0b4a4603",
   "metadata": {},
   "outputs": [],
   "source": [
    "driver=webdriver.Chrome(r'C:\\Users\\polasasuresh\\Downloads\\chromedriver_win32 (1)\\chromedriver.exe')"
   ]
  },
  {
   "cell_type": "code",
   "execution_count": 135,
   "id": "8f68aa78",
   "metadata": {},
   "outputs": [],
   "source": [
    "driver.get('https://www.hostelworld.com/')"
   ]
  },
  {
   "cell_type": "code",
   "execution_count": 137,
   "id": "2e0e97da",
   "metadata": {},
   "outputs": [],
   "source": [
    "#input in the search box\n",
    "search_key=driver.find_element_by_xpath('/html/body/div[3]/div/div/div[1]/div[1]/div/div[2]/div[4]/div/div[2]/div/div[1]/div/div/div/input')\n",
    "search_key.send_keys('london')"
   ]
  },
  {
   "cell_type": "code",
   "execution_count": 138,
   "id": "f70732fb",
   "metadata": {},
   "outputs": [],
   "source": [
    "#clicking the list element london\n",
    "driver.find_element_by_xpath('/html/body/div[3]/div/div/div[1]/div[1]/div/div[2]/div[4]/div/div[2]/div/div[1]/div/div/ul/li[2]').click()"
   ]
  },
  {
   "cell_type": "code",
   "execution_count": 140,
   "id": "de992905",
   "metadata": {},
   "outputs": [],
   "source": [
    "#clicking lets go button\n",
    "driver.find_element_by_xpath(\"//button[@class='button primary large']\").click()"
   ]
  },
  {
   "cell_type": "code",
   "execution_count": 142,
   "id": "f1980fe5",
   "metadata": {},
   "outputs": [],
   "source": [
    "hos_name=[]\n",
    "kilometers=[]\n",
    "ratings=[]\n",
    "reviews=[]\n",
    "full_reviews=[]\n",
    "prices=[]\n",
    "facilities=[]"
   ]
  },
  {
   "cell_type": "code",
   "execution_count": 143,
   "id": "433d6e87",
   "metadata": {},
   "outputs": [],
   "source": [
    "name=driver.find_elements_by_xpath(\"//h2[@class='title title-6']\")\n",
    "for i in name:\n",
    "    if i.text is None:\n",
    "        hos_name.append(\" \")\n",
    "    else:\n",
    "        hos_name.append(i.text)"
   ]
  },
  {
   "cell_type": "code",
   "execution_count": 144,
   "id": "930d2cfc",
   "metadata": {},
   "outputs": [],
   "source": [
    "kms=driver.find_elements_by_xpath(\"//span[@class='description']\")\n",
    "for i in kms:\n",
    "    if i.text is None:\n",
    "        kilometers.append(\" \")\n",
    "    else:\n",
    "        kilometers.append(i.text)"
   ]
  },
  {
   "cell_type": "code",
   "execution_count": 145,
   "id": "6c2e8457",
   "metadata": {},
   "outputs": [],
   "source": [
    "rate=driver.find_elements_by_xpath(\"//div[@class='rating rating-summary-container big']\")\n",
    "for i in rate:\n",
    "    if i.text is None:\n",
    "        ratings.append(\" \")\n",
    "    else:\n",
    "        ratings.append(i.text[0])"
   ]
  },
  {
   "cell_type": "code",
   "execution_count": 146,
   "id": "4b7fc1c0",
   "metadata": {},
   "outputs": [],
   "source": [
    "rev=driver.find_elements_by_xpath(\"//div[@class='reviews']\")\n",
    "for i in rev:\n",
    "    reviews.append(i.text)"
   ]
  },
  {
   "cell_type": "code",
   "execution_count": 147,
   "id": "3a9912e7",
   "metadata": {},
   "outputs": [],
   "source": [
    "full_rev=driver.find_elements_by_xpath(\"//div[@class='keyword']/span\")\n",
    "for i in full_rev:\n",
    "    full_reviews.append(i.text)"
   ]
  },
  {
   "cell_type": "code",
   "execution_count": 148,
   "id": "6cb5a370",
   "metadata": {},
   "outputs": [],
   "source": [
    "prc=driver.find_elements_by_xpath(\"//a[@class='prices']/div/div\")\n",
    "for i in prc:\n",
    "    prices.append(i.text)"
   ]
  },
  {
   "cell_type": "code",
   "execution_count": 149,
   "id": "4610d023",
   "metadata": {},
   "outputs": [],
   "source": [
    "facil=driver.find_elements_by_xpath(\"//div[@class='facilities-label facilities']\")\n",
    "for i in facil:\n",
    "    facilities.append(i.text)"
   ]
  },
  {
   "cell_type": "code",
   "execution_count": 150,
   "id": "e49541a5",
   "metadata": {},
   "outputs": [
    {
     "data": {
      "text/html": [
       "<div>\n",
       "<style scoped>\n",
       "    .dataframe tbody tr th:only-of-type {\n",
       "        vertical-align: middle;\n",
       "    }\n",
       "\n",
       "    .dataframe tbody tr th {\n",
       "        vertical-align: top;\n",
       "    }\n",
       "\n",
       "    .dataframe thead th {\n",
       "        text-align: right;\n",
       "    }\n",
       "</style>\n",
       "<table border=\"1\" class=\"dataframe\">\n",
       "  <thead>\n",
       "    <tr style=\"text-align: right;\">\n",
       "      <th></th>\n",
       "      <th>Name</th>\n",
       "      <th>Kilometers</th>\n",
       "      <th>ratings</th>\n",
       "      <th>reviews</th>\n",
       "      <th>facilities</th>\n",
       "    </tr>\n",
       "  </thead>\n",
       "  <tbody>\n",
       "    <tr>\n",
       "      <th>0</th>\n",
       "      <td>Selina Camden</td>\n",
       "      <td>Hostel - 5.5km from city centre</td>\n",
       "      <td>9</td>\n",
       "      <td>25 Total Reviews</td>\n",
       "      <td>Free WiFi</td>\n",
       "    </tr>\n",
       "    <tr>\n",
       "      <th>1</th>\n",
       "      <td>Urbany Hostel London</td>\n",
       "      <td>Hostel - 5.4km from city centre</td>\n",
       "      <td>9</td>\n",
       "      <td>313 Total Reviews</td>\n",
       "      <td>Free WiFi\\nFollows Covid-19 sanitation guidance</td>\n",
       "    </tr>\n",
       "    <tr>\n",
       "      <th>2</th>\n",
       "      <td>Smart Hyde Park View Hostel</td>\n",
       "      <td>Hostel - 5km from city centre</td>\n",
       "      <td>8</td>\n",
       "      <td>4549 Total Reviews</td>\n",
       "      <td>Free WiFi\\nFollows Covid-19 sanitation guidance</td>\n",
       "    </tr>\n",
       "    <tr>\n",
       "      <th>3</th>\n",
       "      <td>Saint James Backpackers</td>\n",
       "      <td>Hostel - 5.5km from city centre</td>\n",
       "      <td>6</td>\n",
       "      <td>1789 Total Reviews</td>\n",
       "      <td>Free WiFi\\nFree Breakfast\\nFollows Covid-19 sa...</td>\n",
       "    </tr>\n",
       "    <tr>\n",
       "      <th>4</th>\n",
       "      <td>Barry House</td>\n",
       "      <td>Bed and Breakfast - 4.2km from city centre</td>\n",
       "      <td>8</td>\n",
       "      <td>10 Total Reviews</td>\n",
       "      <td>Free WiFi\\nFree Breakfast</td>\n",
       "    </tr>\n",
       "    <tr>\n",
       "      <th>5</th>\n",
       "      <td>London House Hotel</td>\n",
       "      <td>Hotel - 5.3km from city centre</td>\n",
       "      <td>8</td>\n",
       "      <td>1381 Total Reviews</td>\n",
       "      <td>Free WiFi</td>\n",
       "    </tr>\n",
       "    <tr>\n",
       "      <th>6</th>\n",
       "      <td>Elmwood Hotel</td>\n",
       "      <td>Hotel - 3.2km from city centre</td>\n",
       "      <td>7</td>\n",
       "      <td>115 Total Reviews</td>\n",
       "      <td></td>\n",
       "    </tr>\n",
       "    <tr>\n",
       "      <th>7</th>\n",
       "      <td>Kip Hotel</td>\n",
       "      <td>Hotel - 6.8km from city centre</td>\n",
       "      <td>8</td>\n",
       "      <td>53 Total Reviews</td>\n",
       "      <td>Free WiFi</td>\n",
       "    </tr>\n",
       "    <tr>\n",
       "      <th>8</th>\n",
       "      <td>Cranbrook Hotel</td>\n",
       "      <td>Hotel - 14.8km from city centre</td>\n",
       "      <td>N</td>\n",
       "      <td>58 Total Reviews</td>\n",
       "      <td>Free Breakfast\\nFollows Covid-19 sanitation gu...</td>\n",
       "    </tr>\n",
       "    <tr>\n",
       "      <th>9</th>\n",
       "      <td>Colliers Hotel</td>\n",
       "      <td>Hotel - 2.1km from city centre</td>\n",
       "      <td>7</td>\n",
       "      <td>4 Total Reviews</td>\n",
       "      <td>Follows Covid-19 sanitation guidance</td>\n",
       "    </tr>\n",
       "    <tr>\n",
       "      <th>10</th>\n",
       "      <td>Belgrave Hotel London</td>\n",
       "      <td>Hotel - 2.2km from city centre</td>\n",
       "      <td>5</td>\n",
       "      <td>6 Total Reviews</td>\n",
       "      <td>Free WiFi\\nFree Breakfast</td>\n",
       "    </tr>\n",
       "    <tr>\n",
       "      <th>11</th>\n",
       "      <td>Hyde Park Court Hotel</td>\n",
       "      <td>Hotel - 4.3km from city centre</td>\n",
       "      <td>3</td>\n",
       "      <td>138 Total Reviews</td>\n",
       "      <td>Free WiFi\\nFree Breakfast</td>\n",
       "    </tr>\n",
       "    <tr>\n",
       "      <th>12</th>\n",
       "      <td>City Hotel Carlton</td>\n",
       "      <td>Hotel - 1.8km from city centre</td>\n",
       "      <td>9</td>\n",
       "      <td>40 Total Reviews</td>\n",
       "      <td></td>\n",
       "    </tr>\n",
       "    <tr>\n",
       "      <th>13</th>\n",
       "      <td>Hotel Shepherds Bush London</td>\n",
       "      <td>Hotel - 7.6km from city centre</td>\n",
       "      <td>N</td>\n",
       "      <td>0 Total Reviews</td>\n",
       "      <td>Free WiFi\\nFollows Covid-19 sanitation guidance</td>\n",
       "    </tr>\n",
       "    <tr>\n",
       "      <th>14</th>\n",
       "      <td>Tony's House Hotel</td>\n",
       "      <td>Hotel - 4.3km from city centre</td>\n",
       "      <td>N</td>\n",
       "      <td>406 Total Reviews</td>\n",
       "      <td>Free Breakfast</td>\n",
       "    </tr>\n",
       "    <tr>\n",
       "      <th>15</th>\n",
       "      <td>Fairway Hotel</td>\n",
       "      <td>Bed and Breakfast - 3.3km from city centre</td>\n",
       "      <td>N</td>\n",
       "      <td>44 Total Reviews</td>\n",
       "      <td>Free WiFi\\nFree Breakfast</td>\n",
       "    </tr>\n",
       "    <tr>\n",
       "      <th>16</th>\n",
       "      <td>Beaconsfield</td>\n",
       "      <td>Hotel - 8.6km from city centre</td>\n",
       "      <td>N</td>\n",
       "      <td>28 Total Reviews</td>\n",
       "      <td>Free WiFi</td>\n",
       "    </tr>\n",
       "    <tr>\n",
       "      <th>17</th>\n",
       "      <td>London Town Hotel</td>\n",
       "      <td>Hotel - 5.4km from city centre</td>\n",
       "      <td>N</td>\n",
       "      <td>61 Total Reviews</td>\n",
       "      <td>Free WiFi</td>\n",
       "    </tr>\n",
       "    <tr>\n",
       "      <th>18</th>\n",
       "      <td>Best Western Boltons London Kensington</td>\n",
       "      <td>Hotel - 5.4km from city centre</td>\n",
       "      <td>2</td>\n",
       "      <td>2 Total Reviews</td>\n",
       "      <td>Free WiFi</td>\n",
       "    </tr>\n",
       "  </tbody>\n",
       "</table>\n",
       "</div>"
      ],
      "text/plain": [
       "                                      Name  \\\n",
       "0                            Selina Camden   \n",
       "1                     Urbany Hostel London   \n",
       "2              Smart Hyde Park View Hostel   \n",
       "3                  Saint James Backpackers   \n",
       "4                              Barry House   \n",
       "5                       London House Hotel   \n",
       "6                            Elmwood Hotel   \n",
       "7                                Kip Hotel   \n",
       "8                          Cranbrook Hotel   \n",
       "9                           Colliers Hotel   \n",
       "10                   Belgrave Hotel London   \n",
       "11                   Hyde Park Court Hotel   \n",
       "12                      City Hotel Carlton   \n",
       "13             Hotel Shepherds Bush London   \n",
       "14                      Tony's House Hotel   \n",
       "15                           Fairway Hotel   \n",
       "16                            Beaconsfield   \n",
       "17                       London Town Hotel   \n",
       "18  Best Western Boltons London Kensington   \n",
       "\n",
       "                                    Kilometers ratings             reviews  \\\n",
       "0              Hostel - 5.5km from city centre       9    25 Total Reviews   \n",
       "1              Hostel - 5.4km from city centre       9   313 Total Reviews   \n",
       "2                Hostel - 5km from city centre       8  4549 Total Reviews   \n",
       "3              Hostel - 5.5km from city centre       6  1789 Total Reviews   \n",
       "4   Bed and Breakfast - 4.2km from city centre       8    10 Total Reviews   \n",
       "5               Hotel - 5.3km from city centre       8  1381 Total Reviews   \n",
       "6               Hotel - 3.2km from city centre       7   115 Total Reviews   \n",
       "7               Hotel - 6.8km from city centre       8    53 Total Reviews   \n",
       "8              Hotel - 14.8km from city centre       N    58 Total Reviews   \n",
       "9               Hotel - 2.1km from city centre       7     4 Total Reviews   \n",
       "10              Hotel - 2.2km from city centre       5     6 Total Reviews   \n",
       "11              Hotel - 4.3km from city centre       3   138 Total Reviews   \n",
       "12              Hotel - 1.8km from city centre       9    40 Total Reviews   \n",
       "13              Hotel - 7.6km from city centre       N     0 Total Reviews   \n",
       "14              Hotel - 4.3km from city centre       N   406 Total Reviews   \n",
       "15  Bed and Breakfast - 3.3km from city centre       N    44 Total Reviews   \n",
       "16              Hotel - 8.6km from city centre       N    28 Total Reviews   \n",
       "17              Hotel - 5.4km from city centre       N    61 Total Reviews   \n",
       "18              Hotel - 5.4km from city centre       2     2 Total Reviews   \n",
       "\n",
       "                                           facilities  \n",
       "0                                           Free WiFi  \n",
       "1     Free WiFi\\nFollows Covid-19 sanitation guidance  \n",
       "2     Free WiFi\\nFollows Covid-19 sanitation guidance  \n",
       "3   Free WiFi\\nFree Breakfast\\nFollows Covid-19 sa...  \n",
       "4                           Free WiFi\\nFree Breakfast  \n",
       "5                                           Free WiFi  \n",
       "6                                                      \n",
       "7                                           Free WiFi  \n",
       "8   Free Breakfast\\nFollows Covid-19 sanitation gu...  \n",
       "9                Follows Covid-19 sanitation guidance  \n",
       "10                          Free WiFi\\nFree Breakfast  \n",
       "11                          Free WiFi\\nFree Breakfast  \n",
       "12                                                     \n",
       "13    Free WiFi\\nFollows Covid-19 sanitation guidance  \n",
       "14                                     Free Breakfast  \n",
       "15                          Free WiFi\\nFree Breakfast  \n",
       "16                                          Free WiFi  \n",
       "17                                          Free WiFi  \n",
       "18                                          Free WiFi  "
      ]
     },
     "execution_count": 150,
     "metadata": {},
     "output_type": "execute_result"
    }
   ],
   "source": [
    "df=pd.DataFrame({\"Name\":hos_name,\"Kilometers\":kilometers,\"ratings\":ratings,\"reviews\":reviews,\"facilities\":facilities})\n",
    "df"
   ]
  },
  {
   "cell_type": "code",
   "execution_count": null,
   "id": "52075b1b",
   "metadata": {},
   "outputs": [],
   "source": []
  }
 ],
 "metadata": {
  "kernelspec": {
   "display_name": "Python 3",
   "language": "python",
   "name": "python3"
  },
  "language_info": {
   "codemirror_mode": {
    "name": "ipython",
    "version": 3
   },
   "file_extension": ".py",
   "mimetype": "text/x-python",
   "name": "python",
   "nbconvert_exporter": "python",
   "pygments_lexer": "ipython3",
   "version": "3.8.8"
  }
 },
 "nbformat": 4,
 "nbformat_minor": 5
}
